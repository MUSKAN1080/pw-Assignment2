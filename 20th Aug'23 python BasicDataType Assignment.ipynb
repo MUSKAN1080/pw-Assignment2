{
 "cells": [
  {
   "cell_type": "code",
   "execution_count": 1,
   "id": "b3c0b057-931d-4f6c-9f42-257f2518bc3b",
   "metadata": {},
   "outputs": [
    {
     "name": "stdout",
     "output_type": "stream",
     "text": [
      "Original String: Hello, World!\n",
      "Reversed String: !dlroW ,olleH\n"
     ]
    }
   ],
   "source": [
    "# String Based Assignment Problem\n",
    "\n",
    "#Question 1.  Write a program to reverse a string.\n",
    "\n",
    "def reverse_string(input_string):\n",
    "    return input_string[::-1]\n",
    "\n",
    "# Example usage:\n",
    "original_string = \"Hello, World!\"\n",
    "reversed_string = reverse_string(original_string)\n",
    "\n",
    "print(\"Original String:\", original_string)\n",
    "print(\"Reversed String:\", reversed_string)\n"
   ]
  },
  {
   "cell_type": "code",
   "execution_count": 2,
   "id": "d261fb16-f861-4ed2-9691-94448ac9a17b",
   "metadata": {},
   "outputs": [
    {
     "name": "stdout",
     "output_type": "stream",
     "text": [
      "Is 'level' a palindrome? True\n"
     ]
    }
   ],
   "source": [
    "#Question 2. Check if a string is a palindrome.\n",
    "\n",
    "def is_palindrome(input_string):\n",
    "    # Remove spaces and convert to lowercase for case-insensitive comparison\n",
    "    cleaned_string = ''.join(input_string.split()).lower()\n",
    "    return cleaned_string == cleaned_string[::-1]\n",
    "\n",
    "# Example usage:\n",
    "test_string = \"level\"\n",
    "result = is_palindrome(test_string)\n",
    "\n",
    "print(f\"Is '{test_string}' a palindrome? {result}\")\n"
   ]
  },
  {
   "cell_type": "code",
   "execution_count": 3,
   "id": "ba9c7072-e713-4d86-ac69-3163d0c87ab4",
   "metadata": {},
   "outputs": [
    {
     "name": "stdout",
     "output_type": "stream",
     "text": [
      "Original String: Hello, World!\n",
      "Uppercase String: HELLO, WORLD!\n"
     ]
    }
   ],
   "source": [
    "#Question 3. Convert a string to uppercase.\n",
    "input_string = \"Hello, World!\"\n",
    "uppercase_string = input_string.upper()\n",
    "\n",
    "print(\"Original String:\", input_string)\n",
    "print(\"Uppercase String:\", uppercase_string)\n"
   ]
  },
  {
   "cell_type": "code",
   "execution_count": 4,
   "id": "7bf2621f-a06f-4073-b39c-1812b0f87865",
   "metadata": {},
   "outputs": [
    {
     "name": "stdout",
     "output_type": "stream",
     "text": [
      "Original String: Hello, World!\n",
      "Lowercase String: hello, world!\n"
     ]
    }
   ],
   "source": [
    "#Question 4. Convert a string to lowercase.\n",
    "\n",
    "input_string = \"Hello, World!\"\n",
    "lowercase_string = input_string.lower()\n",
    "\n",
    "print(\"Original String:\", input_string)\n",
    "print(\"Lowercase String:\", lowercase_string)\n"
   ]
  },
  {
   "cell_type": "code",
   "execution_count": 5,
   "id": "8b126972-da57-4305-ad14-ea0a9c51bb97",
   "metadata": {},
   "outputs": [
    {
     "name": "stdout",
     "output_type": "stream",
     "text": [
      "The number of vowels in 'Hello, World!' is: 3\n"
     ]
    }
   ],
   "source": [
    "#Question 5.  Count the number of vowels in a string.\n",
    "def count_vowels(input_string):\n",
    "    vowels = \"aeiouAEIOU\"\n",
    "    count = 0\n",
    "\n",
    "    for char in input_string:\n",
    "        if char in vowels:\n",
    "            count += 1\n",
    "\n",
    "    return count\n",
    "\n",
    "# Example usage:\n",
    "test_string = \"Hello, World!\"\n",
    "vowel_count = count_vowels(test_string)\n",
    "\n",
    "print(f\"The number of vowels in '{test_string}' is: {vowel_count}\")\n"
   ]
  },
  {
   "cell_type": "code",
   "execution_count": 6,
   "id": "d8e09610-bc55-489e-8e7e-123d3ea90875",
   "metadata": {},
   "outputs": [
    {
     "name": "stdout",
     "output_type": "stream",
     "text": [
      "The number of consonants in 'Hello, World!' is: 7\n"
     ]
    }
   ],
   "source": [
    "#Question 6. Count the number of consonants in a string.\n",
    "def count_consonants(input_string):\n",
    "    vowels = \"aeiouAEIOU\"\n",
    "    consonant_count = 0\n",
    "\n",
    "    for char in input_string:\n",
    "        if char.isalpha() and char not in vowels:\n",
    "            consonant_count += 1\n",
    "\n",
    "    return consonant_count\n",
    "\n",
    "# Example usage:\n",
    "test_string = \"Hello, World!\"\n",
    "consonant_count = count_consonants(test_string)\n",
    "\n",
    "print(f\"The number of consonants in '{test_string}' is: {consonant_count}\")\n"
   ]
  },
  {
   "cell_type": "code",
   "execution_count": 7,
   "id": "815d3942-e8de-4999-a08b-5fdae8ffa5c9",
   "metadata": {},
   "outputs": [
    {
     "name": "stdout",
     "output_type": "stream",
     "text": [
      "Original String: Hello,   World!\n",
      "String without Whitespace: Hello,World!\n"
     ]
    }
   ],
   "source": [
    "#Question 7. Remove all whitespaces from a string.\n",
    "def remove_whitespace(input_string):\n",
    "    return input_string.replace(\" \", \"\")\n",
    "\n",
    "# Example usage:\n",
    "original_string = \"Hello,   World!\"\n",
    "no_whitespace_string = remove_whitespace(original_string)\n",
    "\n",
    "print(\"Original String:\", original_string)\n",
    "print(\"String without Whitespace:\", no_whitespace_string)\n"
   ]
  },
  {
   "cell_type": "code",
   "execution_count": 8,
   "id": "74a7bb61-5678-45f0-a748-59f25bd5a140",
   "metadata": {},
   "outputs": [
    {
     "name": "stdout",
     "output_type": "stream",
     "text": [
      "Original String: Hello, World!\n",
      "Length of the String: 13\n"
     ]
    }
   ],
   "source": [
    "#Question 8. Find the length of a string without using the `len()` function.\n",
    "def calculate_string_length(input_string):\n",
    "    count = 0\n",
    "    for char in input_string:\n",
    "        count += 1\n",
    "    return count\n",
    "\n",
    "# Example usage:\n",
    "original_string = \"Hello, World!\"\n",
    "string_length = calculate_string_length(original_string)\n",
    "\n",
    "print(\"Original String:\", original_string)\n",
    "print(\"Length of the String:\", string_length)\n"
   ]
  },
  {
   "cell_type": "code",
   "execution_count": 9,
   "id": "e3d4ff4e-083c-4409-babc-0ea44a6a35ea",
   "metadata": {},
   "outputs": [
    {
     "name": "stdout",
     "output_type": "stream",
     "text": [
      "The string 'Hello, World! This is an example.' contains the word 'World'.\n"
     ]
    }
   ],
   "source": [
    "#Question 9. Check if a string contains a specific word.\n",
    "def contains_word(input_string, target_word):\n",
    "    return target_word in input_string\n",
    "\n",
    "# Example usage:\n",
    "main_string = \"Hello, World! This is an example.\"\n",
    "search_word = \"World\"\n",
    "\n",
    "if contains_word(main_string, search_word):\n",
    "    print(f\"The string '{main_string}' contains the word '{search_word}'.\")\n",
    "else:\n",
    "    print(f\"The string '{main_string}' does not contain the word '{search_word}'.\")\n"
   ]
  },
  {
   "cell_type": "code",
   "execution_count": 10,
   "id": "73e5f3fd-a559-4ad4-a03e-4887b7649e44",
   "metadata": {},
   "outputs": [
    {
     "name": "stdout",
     "output_type": "stream",
     "text": [
      "Original String: Hello, World! This is an example.\n",
      "Modified String: Hello, Universe! This is an example.\n"
     ]
    }
   ],
   "source": [
    "#Question 10. Replace a word in a string with another word.\n",
    "def replace_word(input_string, old_word, new_word):\n",
    "    return input_string.replace(old_word, new_word)\n",
    "\n",
    "# Example usage:\n",
    "original_string = \"Hello, World! This is an example.\"\n",
    "old_word_to_replace = \"World\"\n",
    "new_word = \"Universe\"\n",
    "\n",
    "modified_string = replace_word(original_string, old_word_to_replace, new_word)\n",
    "\n",
    "print(\"Original String:\", original_string)\n",
    "print(\"Modified String:\", modified_string)\n"
   ]
  },
  {
   "cell_type": "code",
   "execution_count": 11,
   "id": "af8ea7c6-a9de-401c-9e89-42896da9cd22",
   "metadata": {},
   "outputs": [
    {
     "name": "stdout",
     "output_type": "stream",
     "text": [
      "The word 'Hello' occurs 1 times in the string.\n"
     ]
    }
   ],
   "source": [
    "#Question 11. Count the occurrences of a word in a string.\n",
    "\n",
    "def count_occurrences(input_string, target_word):\n",
    "    return input_string.lower().split().count(target_word.lower())\n",
    "\n",
    "# Example usage:\n",
    "main_string = \"Hello, World! This is an example. Hello World!\"\n",
    "search_word = \"Hello\"\n",
    "\n",
    "occurrence_count = count_occurrences(main_string, search_word)\n",
    "print(f\"The word '{search_word}' occurs {occurrence_count} times in the string.\")\n",
    "\n"
   ]
  },
  {
   "cell_type": "code",
   "execution_count": 12,
   "id": "00922342-a76b-49eb-bcd9-6eaef451d8a6",
   "metadata": {},
   "outputs": [
    {
     "name": "stdout",
     "output_type": "stream",
     "text": [
      "The first occurrence of the word 'Hello' is at index 6.\n"
     ]
    }
   ],
   "source": [
    "#Question 12.  Find the first occurrence of a word in a string.\n",
    "def find_first_occurrence(input_string, target_word):\n",
    "    words = input_string.split()\n",
    "    try:\n",
    "        index = words.index(target_word)\n",
    "        return index\n",
    "    except ValueError:\n",
    "        return -1\n",
    "\n",
    "# Example usage:\n",
    "main_string = \"Hello, World! This is an example. Hello World!\"\n",
    "search_word = \"Hello\"\n",
    "\n",
    "first_occurrence_index = find_first_occurrence(main_string, search_word)\n",
    "print(f\"The first occurrence of the word '{search_word}' is at index {first_occurrence_index}.\")\n"
   ]
  },
  {
   "cell_type": "code",
   "execution_count": 13,
   "id": "7343b68f-2d59-4ee3-991e-e8e7093fb071",
   "metadata": {},
   "outputs": [
    {
     "name": "stdout",
     "output_type": "stream",
     "text": [
      "The last occurrence of the word 'Hello' is at index 6.\n"
     ]
    }
   ],
   "source": [
    "#Question 13. Find the last occurrence of a word in a string.\n",
    "def find_last_occurrence(input_string, target_word):\n",
    "    words = input_string.split()\n",
    "    try:\n",
    "        index = len(words) - 1 - words[::-1].index(target_word)\n",
    "        return index\n",
    "    except ValueError:\n",
    "        return -1\n",
    "\n",
    "# Example usage:\n",
    "main_string = \"Hello, World! This is an example. Hello World!\"\n",
    "search_word = \"Hello\"\n",
    "\n",
    "last_occurrence_index = find_last_occurrence(main_string, search_word)\n",
    "print(f\"The last occurrence of the word '{search_word}' is at index {last_occurrence_index}.\")\n"
   ]
  },
  {
   "cell_type": "code",
   "execution_count": 14,
   "id": "cb19b99a-21c1-4446-938f-d47becfc4846",
   "metadata": {},
   "outputs": [
    {
     "name": "stdout",
     "output_type": "stream",
     "text": [
      "Original String: Hello, World! This is an example.\n",
      "List of Words: ['Hello,', 'World!', 'This', 'is', 'an', 'example.']\n"
     ]
    }
   ],
   "source": [
    "#Question 14. Split a string into a list of words.\n",
    "def split_string(input_string):\n",
    "    return input_string.split()\n",
    "\n",
    "# Example usage:\n",
    "original_string = \"Hello, World! This is an example.\"\n",
    "\n",
    "word_list = split_string(original_string)\n",
    "print(\"Original String:\", original_string)\n",
    "print(\"List of Words:\", word_list)\n"
   ]
  },
  {
   "cell_type": "code",
   "execution_count": 15,
   "id": "07bf3def-1e77-4e81-beba-9e5bb7d22cba",
   "metadata": {},
   "outputs": [
    {
     "name": "stdout",
     "output_type": "stream",
     "text": [
      "List of Words: ['Hello,', 'World!', 'This', 'is', 'an', 'example.']\n",
      "Joined String: Hello, World! This is an example.\n"
     ]
    }
   ],
   "source": [
    "#Question 15. Join a list of words into a string.\n",
    "def join_words(word_list):\n",
    "    return ' '.join(word_list)\n",
    "\n",
    "# Example usage:\n",
    "word_list = [\"Hello,\", \"World!\", \"This\", \"is\", \"an\", \"example.\"]\n",
    "\n",
    "joined_string = join_words(word_list)\n",
    "print(\"List of Words:\", word_list)\n",
    "print(\"Joined String:\", joined_string)\n"
   ]
  },
  {
   "cell_type": "code",
   "execution_count": 16,
   "id": "388099b8-640c-4d18-a3f4-29a15db7208a",
   "metadata": {},
   "outputs": [
    {
     "name": "stdout",
     "output_type": "stream",
     "text": [
      "Original String: Hello World! This is an example.\n",
      "Underscored String: Hello_World!_This_is_an_example.\n"
     ]
    }
   ],
   "source": [
    "#Question 16. Convert a string where words are separated by spaces to one where words\n",
    "                 #are separated by underscores.\n",
    "\n",
    "def convert_to_underscore(input_string):\n",
    "    return input_string.replace(\" \", \"_\")\n",
    "\n",
    "# Example usage:\n",
    "original_string = \"Hello World! This is an example.\"\n",
    "\n",
    "underscored_string = convert_to_underscore(original_string)\n",
    "print(\"Original String:\", original_string)\n",
    "print(\"Underscored String:\", underscored_string)\n",
    "\n"
   ]
  },
  {
   "cell_type": "code",
   "execution_count": 17,
   "id": "5f0c3114-afc3-4ce6-8b72-97946cc42bc2",
   "metadata": {},
   "outputs": [
    {
     "name": "stdout",
     "output_type": "stream",
     "text": [
      "The string starts with the word 'hello': True\n"
     ]
    }
   ],
   "source": [
    "#Question 17. Check if a string starts with a specific word or phrase.\n",
    "def starts_with_word(input_string, target_word):\n",
    "    return input_string.lower().startswith(target_word.lower())\n",
    "\n",
    "# Example usage:\n",
    "main_string = \"Hello, World! This is an example.\"\n",
    "start_word = \"hello\"\n",
    "\n",
    "starts_with = starts_with_word(main_string, start_word)\n",
    "print(f\"The string starts with the word '{start_word}': {starts_with}\")\n"
   ]
  },
  {
   "cell_type": "code",
   "execution_count": 18,
   "id": "c785ffbb-66c2-4bdc-b070-bd90b2b069d7",
   "metadata": {},
   "outputs": [
    {
     "name": "stdout",
     "output_type": "stream",
     "text": [
      "The string ends with the word 'example': False\n"
     ]
    }
   ],
   "source": [
    "#Question 18. Check if a string ends with a specific word or phrase.\n",
    "def ends_with_word(input_string, target_word):\n",
    "    return input_string.lower().endswith(target_word.lower())\n",
    "\n",
    "# Example usage:\n",
    "main_string = \"Hello, World! This is an example.\"\n",
    "end_word = \"example\"\n",
    "\n",
    "ends_with = ends_with_word(main_string, end_word)\n",
    "print(f\"The string ends with the word '{end_word}': {ends_with}\")\n"
   ]
  },
  {
   "cell_type": "code",
   "execution_count": 19,
   "id": "b5640c03-cd3f-44e1-9433-b883f86f076a",
   "metadata": {},
   "outputs": [
    {
     "name": "stdout",
     "output_type": "stream",
     "text": [
      "Original String: hello world\n",
      "Title Cased String: Hello World\n"
     ]
    }
   ],
   "source": [
    "#Question 19. Convert a string to title case (e.g., \"hello world\" to \"Hello World\").\n",
    "def title_case(input_string):\n",
    "    return input_string.title()\n",
    "\n",
    "# Example usage:\n",
    "original_string = \"hello world\"\n",
    "\n",
    "title_cased_string = title_case(original_string)\n",
    "print(\"Original String:\", original_string)\n",
    "print(\"Title Cased String:\", title_cased_string)\n"
   ]
  },
  {
   "cell_type": "code",
   "execution_count": 20,
   "id": "dda9fa23-fc77-44e0-9f5f-2f95f8569df8",
   "metadata": {},
   "outputs": [
    {
     "name": "stdout",
     "output_type": "stream",
     "text": [
      "The longest word in the string is: 'example.'\n"
     ]
    }
   ],
   "source": [
    "#Question 20. Find the longest word in a string.\n",
    "def find_longest_word(input_string):\n",
    "    words = input_string.split()\n",
    "    return max(words, key=len)\n",
    "\n",
    "# Example usage:\n",
    "main_string = \"Hello, World! This is an example.\"\n",
    "\n",
    "longest_word = find_longest_word(main_string)\n",
    "print(f\"The longest word in the string is: '{longest_word}'\")\n"
   ]
  },
  {
   "cell_type": "code",
   "execution_count": 21,
   "id": "a16bd150-cf64-4211-9266-cd8d6bb0bb09",
   "metadata": {},
   "outputs": [
    {
     "name": "stdout",
     "output_type": "stream",
     "text": [
      "The shortest word in the string is: 'is'\n"
     ]
    }
   ],
   "source": [
    "#Question 21. Find the shortest word in a string.\n",
    "def find_shortest_word(input_string):\n",
    "    words = input_string.split()\n",
    "    return min(words, key=len)\n",
    "\n",
    "# Example usage:\n",
    "main_string = \"Hello, World! This is an example.\"\n",
    "\n",
    "shortest_word = find_shortest_word(main_string)\n",
    "print(f\"The shortest word in the string is: '{shortest_word}'\")\n"
   ]
  },
  {
   "cell_type": "code",
   "execution_count": 22,
   "id": "a7542997-9565-4533-9c1d-6a61fce9f295",
   "metadata": {},
   "outputs": [
    {
     "name": "stdout",
     "output_type": "stream",
     "text": [
      "Original String: Hello, World! This is an example.\n",
      "Reversed String: example. an is This World! Hello,\n"
     ]
    }
   ],
   "source": [
    "#Question 22. Reverse the order of words in a string.\n",
    "def reverse_word_order(input_string):\n",
    "    words = input_string.split()\n",
    "    reversed_string = ' '.join(reversed(words))\n",
    "    return reversed_string\n",
    "\n",
    "# Example usage:\n",
    "original_string = \"Hello, World! This is an example.\"\n",
    "\n",
    "reversed_string = reverse_word_order(original_string)\n",
    "print(\"Original String:\", original_string)\n",
    "print(\"Reversed String:\", reversed_string)\n"
   ]
  },
  {
   "cell_type": "code",
   "execution_count": 23,
   "id": "63525ba6-3f3d-43b3-8602-f80dab8b85b2",
   "metadata": {},
   "outputs": [
    {
     "name": "stdout",
     "output_type": "stream",
     "text": [
      "The string 'Hello123' is alphanumeric: True\n"
     ]
    }
   ],
   "source": [
    "    #Question 23. Check if a string is alphanumeric.\n",
    "    def is_alphanumeric(input_string):\n",
    "       return input_string.isalnum()\n",
    "\n",
    "# Example usage:\n",
    "test_string = \"Hello123\"\n",
    "\n",
    "is_alpha_numeric = is_alphanumeric(test_string)\n",
    "print(f\"The string '{test_string}' is alphanumeric: {is_alpha_numeric}\")\n",
    "\n"
   ]
  },
  {
   "cell_type": "code",
   "execution_count": 24,
   "id": "8073e699-a761-4ef5-a50c-78c19534ddbe",
   "metadata": {},
   "outputs": [
    {
     "name": "stdout",
     "output_type": "stream",
     "text": [
      "The digits in the string are: 123456\n"
     ]
    }
   ],
   "source": [
    "#Question 24. Extract all digits from a string.\n",
    "def extract_digits(input_string):\n",
    "    return ''.join(char for char in input_string if char.isdigit())\n",
    "\n",
    "# Example usage:\n",
    "main_string = \"Hello123World456\"\n",
    "\n",
    "digits_only = extract_digits(main_string)\n",
    "print(f\"The digits in the string are: {digits_only}\")\n",
    "\n"
   ]
  },
  {
   "cell_type": "code",
   "execution_count": 25,
   "id": "409f3839-eb00-48c2-ba73-6b90d5d3a784",
   "metadata": {},
   "outputs": [
    {
     "name": "stdout",
     "output_type": "stream",
     "text": [
      "The alphabets in the string are: HelloWorld\n"
     ]
    }
   ],
   "source": [
    "#Question 25. Extract all alphabets from a string.\n",
    "def extract_alphabets(input_string):\n",
    "    return ''.join(char for char in input_string if char.isalpha())\n",
    "\n",
    "# Example usage:\n",
    "main_string = \"Hello123World\"\n",
    "\n",
    "alphabets_only = extract_alphabets(main_string)\n",
    "print(f\"The alphabets in the string are: {alphabets_only}\")\n",
    "\n"
   ]
  },
  {
   "cell_type": "code",
   "execution_count": 26,
   "id": "487dcbeb-719b-4dc4-a9bd-191ada437f0c",
   "metadata": {},
   "outputs": [
    {
     "name": "stdout",
     "output_type": "stream",
     "text": [
      "The number of uppercase letters in the string is: 2\n"
     ]
    }
   ],
   "source": [
    "#Question 26. Count the number of uppercase letters in a string.\n",
    "def count_uppercase_letters(input_string):\n",
    "    return sum(1 for char in input_string if char.isupper())\n",
    "\n",
    "# Example usage:\n",
    "test_string = \"Hello World\"\n",
    "\n",
    "uppercase_count = count_uppercase_letters(test_string)\n",
    "print(f\"The number of uppercase letters in the string is: {uppercase_count}\")\n",
    "\n"
   ]
  },
  {
   "cell_type": "code",
   "execution_count": 27,
   "id": "2fef13c2-9226-4c45-8f3a-f49126f7a073",
   "metadata": {},
   "outputs": [
    {
     "name": "stdout",
     "output_type": "stream",
     "text": [
      "The number of lowercase letters in the string is: 8\n"
     ]
    }
   ],
   "source": [
    "#Question 27. Count the number of lowercase letters in a string.\n",
    "def count_lowercase_letters(input_string):\n",
    "    return sum(1 for char in input_string if char.islower())\n",
    "\n",
    "# Example usage:\n",
    "test_string = \"Hello World\"\n",
    "\n",
    "lowercase_count = count_lowercase_letters(test_string)\n",
    "print(f\"The number of lowercase letters in the string is: {lowercase_count}\")\n",
    "\n"
   ]
  },
  {
   "cell_type": "code",
   "execution_count": 28,
   "id": "36e1ee74-ea54-4cb8-816d-dc68dc1846e7",
   "metadata": {},
   "outputs": [
    {
     "name": "stdout",
     "output_type": "stream",
     "text": [
      "Original String: Hello World\n",
      "Swapped Case String: hELLO wORLD\n"
     ]
    }
   ],
   "source": [
    "#Question 28. Swap the case of each character in a string.\n",
    "def swap_case(input_string):\n",
    "    return input_string.swapcase()\n",
    "\n",
    "# Example usage:\n",
    "original_string = \"Hello World\"\n",
    "\n",
    "swapped_string = swap_case(original_string)\n",
    "print(\"Original String:\", original_string)\n",
    "print(\"Swapped Case String:\", swapped_string)\n",
    "\n"
   ]
  },
  {
   "cell_type": "code",
   "execution_count": 29,
   "id": "572c96a8-b08b-4ef3-87fc-977b0d656098",
   "metadata": {},
   "outputs": [
    {
     "name": "stdout",
     "output_type": "stream",
     "text": [
      "The string without the word 'world' is: 'Hello, World! This is an example.'\n"
     ]
    }
   ],
   "source": [
    "#Question 29. Remove a specific word from a string.\n",
    "def remove_word(input_string, target_word):\n",
    "    return ' '.join(word for word in input_string.split() if word.lower() != target_word.lower())\n",
    "\n",
    "# Example usage:\n",
    "main_string = \"Hello, World! This is an example.\"\n",
    "word_to_remove = \"world\"\n",
    "\n",
    "string_without_word = remove_word(main_string, word_to_remove)\n",
    "print(f\"The string without the word '{word_to_remove}' is: '{string_without_word}'\")\n",
    "\n"
   ]
  },
  {
   "cell_type": "code",
   "execution_count": 30,
   "id": "c780eeb1-598c-4faf-becd-12290e783be8",
   "metadata": {},
   "outputs": [
    {
     "name": "stdout",
     "output_type": "stream",
     "text": [
      "The email address 'example@example.com' is valid: True\n"
     ]
    }
   ],
   "source": [
    "#Question 30. Check if a string is a valid email address.\n",
    "import re\n",
    "\n",
    "def is_valid_email(email):\n",
    "    pattern = re.compile(r'^[a-zA-Z0-9._%+-]+@[a-zA-Z0-9.-]+\\.[a-zA-Z]{2,}$')\n",
    "    return bool(pattern.match(email))\n",
    "\n",
    "# Example usage:\n",
    "email_address = \"example@example.com\"\n",
    "\n",
    "is_valid = is_valid_email(email_address)\n",
    "print(f\"The email address '{email_address}' is valid: {is_valid}\")\n"
   ]
  },
  {
   "cell_type": "code",
   "execution_count": 31,
   "id": "788b6cee-4f6f-42db-9602-be74a04ded41",
   "metadata": {},
   "outputs": [
    {
     "name": "stdout",
     "output_type": "stream",
     "text": [
      "The username from the email address 'example@example.com' is: 'example'\n"
     ]
    }
   ],
   "source": [
    "#Question 31. Extract the username from an email address string.\n",
    "def extract_username(email):\n",
    "    return email.split('@')[0]\n",
    "\n",
    "# Example usage:\n",
    "email_address = \"example@example.com\"\n",
    "\n",
    "username = extract_username(email_address)\n",
    "print(f\"The username from the email address '{email_address}' is: '{username}'\")\n",
    "\n"
   ]
  },
  {
   "cell_type": "code",
   "execution_count": 32,
   "id": "5eedf2c5-f8fe-4021-82cc-60bb6f8543c1",
   "metadata": {},
   "outputs": [
    {
     "name": "stdout",
     "output_type": "stream",
     "text": [
      "The domain from the email address 'example@example.com' is: 'example.com'\n"
     ]
    }
   ],
   "source": [
    "#Question 32. Extract the domain name from an email address string.\n",
    "def extract_domain(email):\n",
    "    return email.split('@')[1]\n",
    "\n",
    "# Example usage:\n",
    "email_address = \"example@example.com\"\n",
    "\n",
    "domain = extract_domain(email_address)\n",
    "print(f\"The domain from the email address '{email_address}' is: '{domain}'\")\n",
    "\n"
   ]
  },
  {
   "cell_type": "code",
   "execution_count": 33,
   "id": "62683c25-fa70-4e47-acd2-56122d7fbc96",
   "metadata": {},
   "outputs": [
    {
     "name": "stdout",
     "output_type": "stream",
     "text": [
      "Original String: Hello    World! This   is an   example.\n",
      "String with Single Space: Hello World! This is an example.\n"
     ]
    }
   ],
   "source": [
    "#Question33. Replace multiple spaces in a string with a single space.\n",
    "def replace_multiple_spaces(input_string):\n",
    "    return ' '.join(input_string.split())\n",
    "\n",
    "# Example usage:\n",
    "original_string = \"Hello    World! This   is an   example.\"\n",
    "\n",
    "string_with_single_space = replace_multiple_spaces(original_string)\n",
    "print(\"Original String:\", original_string)\n",
    "print(\"String with Single Space:\", string_with_single_space)\n"
   ]
  },
  {
   "cell_type": "code",
   "execution_count": 34,
   "id": "0de07a88-10ed-432b-829c-61c39b94a0c1",
   "metadata": {},
   "outputs": [
    {
     "name": "stdout",
     "output_type": "stream",
     "text": [
      "The URL 'https://www.example.com' is valid: True\n"
     ]
    }
   ],
   "source": [
    "#Question34. Check if a string is a valid URL.\n",
    "from urllib.parse import urlparse\n",
    "\n",
    "def is_valid_url(url):\n",
    "    try:\n",
    "        result = urlparse(url)\n",
    "        return all([result.scheme, result.netloc])\n",
    "    except ValueError:\n",
    "        return False\n",
    "\n",
    "# Example usage:\n",
    "url = \"https://www.example.com\"\n",
    "\n",
    "is_valid = is_valid_url(url)\n",
    "print(f\"The URL '{url}' is valid: {is_valid}\")\n"
   ]
  },
  {
   "cell_type": "code",
   "execution_count": 35,
   "id": "aafd5454-7129-443e-a5d6-6010610f75c5",
   "metadata": {},
   "outputs": [
    {
     "name": "stdout",
     "output_type": "stream",
     "text": [
      "The protocol from the URL 'https://www.example.com' is: 'https'\n"
     ]
    }
   ],
   "source": [
    "#Question35. Extract the protocol (http or https) from a URL string.\n",
    "def extract_protocol(url):\n",
    "    return urlparse(url).scheme\n",
    "\n",
    "# Example usage:\n",
    "url = \"https://www.example.com\"\n",
    "\n",
    "protocol = extract_protocol(url)\n",
    "print(f\"The protocol from the URL '{url}' is: '{protocol}'\")\n"
   ]
  },
  {
   "cell_type": "code",
   "execution_count": 36,
   "id": "6ae33170-a015-472f-b01d-be7dc1b83411",
   "metadata": {},
   "outputs": [
    {
     "name": "stdout",
     "output_type": "stream",
     "text": [
      "The frequency of each character in the string is: Counter({'l': 3, 'o': 2, 'H': 1, 'e': 1, ',': 1, ' ': 1, 'W': 1, 'r': 1, 'd': 1, '!': 1})\n"
     ]
    }
   ],
   "source": [
    "#Question36. Find the frequency of each character in a string.\n",
    "from collections import Counter\n",
    "\n",
    "def character_frequency(input_string):\n",
    "    return Counter(input_string)\n",
    "\n",
    "# Example usage:\n",
    "test_string = \"Hello, World!\"\n",
    "\n",
    "frequency_dict = character_frequency(test_string)\n",
    "print(f\"The frequency of each character in the string is: {frequency_dict}\")\n"
   ]
  },
  {
   "cell_type": "code",
   "execution_count": 37,
   "id": "58f477a8-90ab-4c05-a409-9ced608e72ee",
   "metadata": {},
   "outputs": [
    {
     "name": "stdout",
     "output_type": "stream",
     "text": [
      "Original String: Hello, World!\n",
      "String without Punctuation: Hello World\n"
     ]
    }
   ],
   "source": [
    "#Question37. Remove all punctuation from a string.\n",
    "import string\n",
    "\n",
    "def remove_punctuation(input_string):\n",
    "    return input_string.translate(str.maketrans(\"\", \"\", string.punctuation))\n",
    "\n",
    "# Example usage:\n",
    "original_string = \"Hello, World!\"\n",
    "\n",
    "string_without_punctuation = remove_punctuation(original_string)\n",
    "print(\"Original String:\", original_string)\n",
    "print(\"String without Punctuation:\", string_without_punctuation)\n"
   ]
  },
  {
   "cell_type": "code",
   "execution_count": 38,
   "id": "b25aecf7-a0cb-4938-bd37-ab304ea91ca1",
   "metadata": {},
   "outputs": [
    {
     "name": "stdout",
     "output_type": "stream",
     "text": [
      "The string '123456' contains only digits: True\n"
     ]
    }
   ],
   "source": [
    "#Question38. Check if a string contains only digits.\n",
    "def contains_only_digits(input_string):\n",
    "    return input_string.isdigit()\n",
    "\n",
    "# Example usage:\n",
    "test_string = \"123456\"\n",
    "\n",
    "contains_digits_only = contains_only_digits(test_string)\n",
    "print(f\"The string '{test_string}' contains only digits: {contains_digits_only}\")\n"
   ]
  },
  {
   "cell_type": "code",
   "execution_count": 39,
   "id": "773807ef-bc90-49bc-aaaf-9f9b86142f04",
   "metadata": {},
   "outputs": [
    {
     "name": "stdout",
     "output_type": "stream",
     "text": [
      "The string 'HelloWorld' contains only alphabets: True\n"
     ]
    }
   ],
   "source": [
    "#Question39. Check if a string contains only alphabets.\n",
    "def contains_only_alphabets(input_string):\n",
    "    return input_string.isalpha()\n",
    "\n",
    "# Example usage:\n",
    "test_string = \"HelloWorld\"\n",
    "\n",
    "contains_alphabets_only = contains_only_alphabets(test_string)\n",
    "print(f\"The string '{test_string}' contains only alphabets: {contains_alphabets_only}\")\n"
   ]
  },
  {
   "cell_type": "code",
   "execution_count": 40,
   "id": "264ea52b-97ea-42da-8dd7-dd3c6e129d34",
   "metadata": {},
   "outputs": [
    {
     "name": "stdout",
     "output_type": "stream",
     "text": [
      "Original String: Hello, World!\n",
      "List of Characters: ['H', 'e', 'l', 'l', 'o', ',', ' ', 'W', 'o', 'r', 'l', 'd', '!']\n"
     ]
    }
   ],
   "source": [
    "#Question40. Convert a string to a list of characters.\n",
    "def string_to_list(input_string):\n",
    "    return list(input_string)\n",
    "\n",
    "# Example usage:\n",
    "original_string = \"Hello, World!\"\n",
    "\n",
    "char_list = string_to_list(original_string)\n",
    "print(\"Original String:\", original_string)\n",
    "print(\"List of Characters:\", char_list)\n"
   ]
  },
  {
   "cell_type": "code",
   "execution_count": 41,
   "id": "65795c77-b502-427a-8a7c-68c6b9b73e14",
   "metadata": {},
   "outputs": [
    {
     "name": "stdout",
     "output_type": "stream",
     "text": [
      "The strings 'listen' and 'silent' are anagrams: True\n"
     ]
    }
   ],
   "source": [
    "#Question 41. Check if two strings are anagrams.\n",
    "def are_anagrams(str1, str2):\n",
    "    return sorted(str1) == sorted(str2)\n",
    "\n",
    "# Example usage:\n",
    "string1 = \"listen\"\n",
    "string2 = \"silent\"\n",
    "\n",
    "are_anagrams_result = are_anagrams(string1, string2)\n",
    "print(f\"The strings '{string1}' and '{string2}' are anagrams: {are_anagrams_result}\")\n"
   ]
  },
  {
   "cell_type": "code",
   "execution_count": 42,
   "id": "a281f92a-bfba-42e3-ba6f-7b9cc26a8158",
   "metadata": {},
   "outputs": [
    {
     "name": "stdout",
     "output_type": "stream",
     "text": [
      "The original string: 'Hello, World!'\n",
      "The encoded string: 'Khoor, Zruog!'\n"
     ]
    }
   ],
   "source": [
    "#Question 42. Encode a string using a Caesar cipher.\n",
    "def caesar_cipher_encode(input_string, shift):\n",
    "    result = \"\"\n",
    "    for char in input_string:\n",
    "        if char.isalpha():\n",
    "            base = ord('A') if char.isupper() else ord('a')\n",
    "            result += chr((ord(char) - base + shift) % 26 + base)\n",
    "        else:\n",
    "            result += char\n",
    "    return result\n",
    "\n",
    "# Example usage:\n",
    "original_string = \"Hello, World!\"\n",
    "shift_value = 3\n",
    "\n",
    "encoded_string = caesar_cipher_encode(original_string, shift_value)\n",
    "print(f\"The original string: '{original_string}'\")\n",
    "print(f\"The encoded string: '{encoded_string}'\")\n"
   ]
  },
  {
   "cell_type": "code",
   "execution_count": 43,
   "id": "4dd6d2f5-0b42-4a90-ab7a-6fe92c56387b",
   "metadata": {},
   "outputs": [
    {
     "name": "stdout",
     "output_type": "stream",
     "text": [
      "The encoded string: 'Khoor, Zruog!'\n",
      "The decoded string: 'Hello, World!'\n"
     ]
    }
   ],
   "source": [
    "#Question 43. Decode a Caesar cipher encoded string.\n",
    "def caesar_cipher_decode(encoded_string, shift):\n",
    "    return caesar_cipher_encode(encoded_string, -shift)\n",
    "\n",
    "# Example usage:\n",
    "encoded_string = \"Khoor, Zruog!\"\n",
    "shift_value = 3\n",
    "\n",
    "decoded_string = caesar_cipher_decode(encoded_string, shift_value)\n",
    "print(f\"The encoded string: '{encoded_string}'\")\n",
    "print(f\"The decoded string: '{decoded_string}'\")\n"
   ]
  },
  {
   "cell_type": "code",
   "execution_count": 44,
   "id": "f5f19e8c-8814-4630-a083-4420f249a593",
   "metadata": {},
   "outputs": [
    {
     "name": "stdout",
     "output_type": "stream",
     "text": [
      "The most frequent word in the string is: 'Hello,'\n"
     ]
    }
   ],
   "source": [
    "#Question 44. Find the most frequent word in a string.\n",
    "from collections import Counter\n",
    "\n",
    "def most_frequent_word(input_string):\n",
    "    words = input_string.split()\n",
    "    word_counts = Counter(words)\n",
    "    most_common_word, _ = word_counts.most_common(1)[0]\n",
    "    return most_common_word\n",
    "\n",
    "# Example usage:\n",
    "main_string = \"Hello, World! Hello, Universe! Hello, World!\"\n",
    "\n",
    "most_frequent = most_frequent_word(main_string)\n",
    "print(f\"The most frequent word in the string is: '{most_frequent}'\")\n"
   ]
  },
  {
   "cell_type": "code",
   "execution_count": 45,
   "id": "b6d0f331-299d-45ab-884f-b48176dc9e9f",
   "metadata": {},
   "outputs": [
    {
     "name": "stdout",
     "output_type": "stream",
     "text": [
      "The unique words in the string are: {'Hello,', 'World!', 'Universe!'}\n"
     ]
    }
   ],
   "source": [
    "#Question 45. Find all unique words in a string:\n",
    "def unique_words(input_string):\n",
    "    return set(input_string.split())\n",
    "\n",
    "# Example usage:\n",
    "main_string = \"Hello, World! Hello, Universe! Hello, World!\"\n",
    "\n",
    "unique_words_set = unique_words(main_string)\n",
    "print(f\"The unique words in the string are: {unique_words_set}\")\n"
   ]
  },
  {
   "cell_type": "code",
   "execution_count": 46,
   "id": "b09a7b4c-212b-48f9-ae01-21d13c8e6878",
   "metadata": {},
   "outputs": [
    {
     "name": "stdout",
     "output_type": "stream",
     "text": [
      "The number of syllables in the string is: 9\n"
     ]
    }
   ],
   "source": [
    "#Question 46. Count the number of syllables in a string.\n",
    "def count_syllables(word):\n",
    "    vowels = \"aeiouAEIOU\"\n",
    "    count = 0\n",
    "    for char in word:\n",
    "        if char in vowels:\n",
    "            count += 1\n",
    "    return count\n",
    "\n",
    "def count_syllables_in_string(input_string):\n",
    "    words = input_string.split()\n",
    "    total_syllables = sum(count_syllables(word) for word in words)\n",
    "    return total_syllables\n",
    "\n",
    "# Example usage:\n",
    "test_string = \"Hello, World! This is an example.\"\n",
    "\n",
    "syllable_count = count_syllables_in_string(test_string)\n",
    "print(f\"The number of syllables in the string is: {syllable_count}\")\n"
   ]
  },
  {
   "cell_type": "code",
   "execution_count": 47,
   "id": "7794f8ec-d71e-4f54-b310-3db3c3bcb199",
   "metadata": {},
   "outputs": [
    {
     "name": "stdout",
     "output_type": "stream",
     "text": [
      "The string 'Hello, World!' contains special characters: True\n"
     ]
    }
   ],
   "source": [
    "#Question 47. Check if a string contains any special characters.\n",
    "import re\n",
    "\n",
    "def contains_special_characters(input_string):\n",
    "    # Define a regular expression pattern for special characters\n",
    "    pattern = re.compile('[!@#$%^&*(),.?\":{}|<>]')\n",
    "\n",
    "    # Use the pattern to search for special characters in the string\n",
    "    return bool(pattern.search(input_string))\n",
    "\n",
    "# Example usage:\n",
    "test_string = \"Hello, World!\"\n",
    "\n",
    "contains_special_chars = contains_special_characters(test_string)\n",
    "print(f\"The string '{test_string}' contains special characters: {contains_special_chars}\")\n"
   ]
  },
  {
   "cell_type": "code",
   "execution_count": 48,
   "id": "1c3e4fa0-53de-4b5a-8ed3-d7871db6c9ee",
   "metadata": {},
   "outputs": [
    {
     "name": "stdout",
     "output_type": "stream",
     "text": [
      "Original String: This is a sample sentence to demonstrate removing a word.\n",
      "Modified String: This is a sentence to demonstrate removing a word.\n"
     ]
    }
   ],
   "source": [
    "#Question 48. Remove the nth word from a string.\n",
    "def remove_nth_word(input_string, n):\n",
    "    words = input_string.split()\n",
    "    \n",
    "    # Ensure that n is a valid index\n",
    "    if 0 <= n < len(words):\n",
    "        del words[n]\n",
    "\n",
    "    return ' '.join(words)\n",
    "\n",
    "# Example usage:\n",
    "original_string = \"This is a sample sentence to demonstrate removing a word.\"\n",
    "index_to_remove = 3  # Remove the 4th word (0-based index)\n",
    "\n",
    "modified_string = remove_nth_word(original_string, index_to_remove)\n",
    "print(\"Original String:\", original_string)\n",
    "print(\"Modified String:\", modified_string)\n"
   ]
  },
  {
   "cell_type": "code",
   "execution_count": 49,
   "id": "684cb051-1282-4932-b907-df4b86bb20f2",
   "metadata": {},
   "outputs": [
    {
     "name": "stdout",
     "output_type": "stream",
     "text": [
      "Original String: This is a sample sentence to demonstrate inserting a word.\n",
      "Modified String: This is a sample sentence new_word to demonstrate inserting a word.\n"
     ]
    }
   ],
   "source": [
    "#Question 49. Insert a word at the nth position in a string.\n",
    "def insert_word_at_position(input_string, new_word, n):\n",
    "    words = input_string.split()\n",
    "\n",
    "    # Ensure that n is a valid index\n",
    "    if 0 <= n <= len(words):\n",
    "        words.insert(n, new_word)\n",
    "\n",
    "    return ' '.join(words)\n",
    "\n",
    "# Example usage:\n",
    "original_string = \"This is a sample sentence to demonstrate inserting a word.\"\n",
    "word_to_insert = \"new_word\"\n",
    "position_to_insert = 5  # Insert at the 6th position (0-based index)\n",
    "\n",
    "modified_string = insert_word_at_position(original_string, word_to_insert, position_to_insert)\n",
    "print(\"Original String:\", original_string)\n",
    "print(\"Modified String:\", modified_string)\n"
   ]
  },
  {
   "cell_type": "code",
   "execution_count": 50,
   "id": "93c1cd60-4509-4154-bdbd-bdda4fbcbbaa",
   "metadata": {},
   "outputs": [
    {
     "name": "stdout",
     "output_type": "stream",
     "text": [
      "List of Lists:\n",
      "['Name', 'Age', 'Country']\n",
      "['John', '25', 'USA']\n",
      "['Alice', '30', 'Canada']\n",
      "['Bob', '22', 'UK']\n"
     ]
    }
   ],
   "source": [
    "#Question 50. Convert a CSV string to a list of lists.\n",
    "import csv\n",
    "from io import StringIO\n",
    "\n",
    "def csv_string_to_list(csv_string):\n",
    "    # Use StringIO to convert the CSV string to a file-like object\n",
    "    csv_file = StringIO(csv_string)\n",
    "\n",
    "    # Use the csv.reader to read the CSV content into a list of lists\n",
    "    csv_reader = csv.reader(csv_file)\n",
    "    csv_list = [row for row in csv_reader]\n",
    "\n",
    "    return csv_list\n",
    "\n",
    "# Example usage:\n",
    "csv_string = \"Name,Age,Country\\nJohn,25,USA\\nAlice,30,Canada\\nBob,22,UK\"\n",
    "\n",
    "csv_list = csv_string_to_list(csv_string)\n",
    "print(\"List of Lists:\")\n",
    "for row in csv_list:\n",
    "    print(row)\n"
   ]
  },
  {
   "cell_type": "code",
   "execution_count": 51,
   "id": "426a719e-3a4d-4fdc-9547-ef5258dcd440",
   "metadata": {},
   "outputs": [
    {
     "name": "stdout",
     "output_type": "stream",
     "text": [
      " List with integers from 1 to 10: [1, 2, 3, 4, 5, 6, 7, 8, 9, 10]\n"
     ]
    }
   ],
   "source": [
    "# List Based Practice Problem :\n",
    "# Question 1. Create a list with integers from 1 to 10.\n",
    "integer_list = list(range(1, 11))\n",
    "print(\" List with integers from 1 to 10:\", integer_list)"
   ]
  },
  {
   "cell_type": "code",
   "execution_count": 52,
   "id": "a78e559c-3059-44e0-8133-c865b2317a2e",
   "metadata": {},
   "outputs": [
    {
     "name": "stdout",
     "output_type": "stream",
     "text": [
      " Length of the list: 10\n"
     ]
    }
   ],
   "source": [
    "#Question  2. Find the length of a list without using the `len()` function.\n",
    "def calculate_list_length(input_list):\n",
    "    count = 0\n",
    "    for _ in input_list:\n",
    "        count += 1\n",
    "    return count\n",
    "\n",
    "list_length = calculate_list_length(integer_list)\n",
    "print(\" Length of the list:\", list_length)"
   ]
  },
  {
   "cell_type": "code",
   "execution_count": 53,
   "id": "64d74951-78cd-4cbb-8d1c-930f8094d30a",
   "metadata": {},
   "outputs": [
    {
     "name": "stdout",
     "output_type": "stream",
     "text": [
      " List after appending an element: [1, 2, 3, 4, 5, 6, 7, 8, 9, 10, 11]\n"
     ]
    }
   ],
   "source": [
    "#Question  3. Append an element to the end of a list.\n",
    "element_to_append = 11\n",
    "integer_list.append(element_to_append)\n",
    "print(\" List after appending an element:\", integer_list)"
   ]
  },
  {
   "cell_type": "code",
   "execution_count": 54,
   "id": "83a07fd8-2b42-452a-b0dc-922303e60f32",
   "metadata": {},
   "outputs": [
    {
     "name": "stdout",
     "output_type": "stream",
     "text": [
      " List after inserting an element at index 2: [1, 2, 0, 3, 4, 5, 6, 7, 8, 9, 10, 11]\n"
     ]
    }
   ],
   "source": [
    "#Question  4. Insert an element at a specific index in a list.\n",
    "element_to_insert = 0\n",
    "index_to_insert = 2\n",
    "integer_list.insert(index_to_insert, element_to_insert)\n",
    "print(\" List after inserting an element at index 2:\", integer_list)"
   ]
  },
  {
   "cell_type": "code",
   "execution_count": 55,
   "id": "07fe13e7-b97d-4d4a-adcf-9574734dc26d",
   "metadata": {},
   "outputs": [
    {
     "name": "stdout",
     "output_type": "stream",
     "text": [
      " List after removing element '5': [1, 2, 0, 3, 4, 6, 7, 8, 9, 10, 11]\n"
     ]
    }
   ],
   "source": [
    "#Question 5. Remove an element from a list by its value.\n",
    "element_to_remove = 5\n",
    "integer_list.remove(element_to_remove)\n",
    "print(\" List after removing element '5':\", integer_list)"
   ]
  },
  {
   "cell_type": "code",
   "execution_count": 56,
   "id": "30125ba9-b13a-4679-9f34-77a7df5f8fa2",
   "metadata": {},
   "outputs": [
    {
     "name": "stdout",
     "output_type": "stream",
     "text": [
      " List after removing element at index 3: [1, 2, 0, 4, 6, 7, 8, 9, 10, 11]\n",
      "   Removed element: 3\n"
     ]
    }
   ],
   "source": [
    "#Question  6. Remove an element from a list by its index.\n",
    "index_to_remove = 3\n",
    "removed_element = integer_list.pop(index_to_remove)\n",
    "print(f\" List after removing element at index {index_to_remove}:\", integer_list)\n",
    "print(f\"   Removed element: {removed_element}\")"
   ]
  },
  {
   "cell_type": "code",
   "execution_count": 57,
   "id": "24076f1c-06f9-4caf-ab20-8c57a7cb4b40",
   "metadata": {},
   "outputs": [
    {
     "name": "stdout",
     "output_type": "stream",
     "text": [
      " Element 8 exists in the list: True\n"
     ]
    }
   ],
   "source": [
    "#Question  7. Check if an element exists in a list.\n",
    "element_to_check = 8\n",
    "exists_in_list = element_to_check in integer_list\n",
    "print(f\" Element {element_to_check} exists in the list: {exists_in_list}\")"
   ]
  },
  {
   "cell_type": "code",
   "execution_count": 58,
   "id": "9aa72431-387f-4567-b83f-b61c67e5014a",
   "metadata": {},
   "outputs": [
    {
     "name": "stdout",
     "output_type": "stream",
     "text": [
      " Index of the first occurrence of element 7: 5\n"
     ]
    }
   ],
   "source": [
    "#Question  8. Find the index of the first occurrence of an element in a list.\n",
    "element_to_find = 7\n",
    "index_of_element = integer_list.index(element_to_find)\n",
    "print(f\" Index of the first occurrence of element {element_to_find}:\", index_of_element)\n"
   ]
  },
  {
   "cell_type": "code",
   "execution_count": 59,
   "id": "c7dc6052-4e2d-49c5-b823-f89bcd30e0e7",
   "metadata": {},
   "outputs": [
    {
     "name": "stdout",
     "output_type": "stream",
     "text": [
      " Number of occurrences of element 2 in the list: 1\n"
     ]
    }
   ],
   "source": [
    "# Question 9. Count the occurrences of an element in a list.\n",
    "element_to_count = 2\n",
    "occurrences_count = integer_list.count(element_to_count)\n",
    "print(f\" Number of occurrences of element {element_to_count} in the list:\", occurrences_count)\n"
   ]
  },
  {
   "cell_type": "code",
   "execution_count": 60,
   "id": "12082d44-57ad-4ea1-a3f9-f6b62e7ebd38",
   "metadata": {},
   "outputs": [
    {
     "name": "stdout",
     "output_type": "stream",
     "text": [
      " List after reversing the order of elements: [11, 10, 9, 8, 7, 6, 4, 0, 2, 1]\n"
     ]
    }
   ],
   "source": [
    "#Question  10. Reverse the order of elements in a list.\n",
    "integer_list.reverse()\n",
    "print(\" List after reversing the order of elements:\", integer_list)"
   ]
  },
  {
   "cell_type": "code",
   "execution_count": 61,
   "id": "642d855c-da97-492c-90f1-733d2562975d",
   "metadata": {},
   "outputs": [
    {
     "name": "stdout",
     "output_type": "stream",
     "text": [
      " List sorted in ascending order: [0, 1, 2, 4, 6, 7, 8, 9, 10, 11]\n"
     ]
    }
   ],
   "source": [
    "#Question 11. Sort a list in ascending order.\n",
    "\n",
    "asc_sorted_list = sorted(integer_list)\n",
    "print(\" List sorted in ascending order:\", asc_sorted_list)"
   ]
  },
  {
   "cell_type": "code",
   "execution_count": 62,
   "id": "1f1eb2ed-dfc6-4228-b32d-da7fbe6dbabe",
   "metadata": {},
   "outputs": [
    {
     "name": "stdout",
     "output_type": "stream",
     "text": [
      "List sorted in descending order: [11, 10, 9, 8, 7, 6, 4, 2, 1, 0]\n"
     ]
    }
   ],
   "source": [
    "#Question  12. Sort a list in descending order.\n",
    "desc_sorted_list = sorted(integer_list, reverse=True)\n",
    "print(\"List sorted in descending order:\", desc_sorted_list)"
   ]
  },
  {
   "cell_type": "code",
   "execution_count": 63,
   "id": "559f5f53-0cae-440d-89ce-c7a9bc8adcfa",
   "metadata": {},
   "outputs": [
    {
     "name": "stdout",
     "output_type": "stream",
     "text": [
      " List of even numbers from 1 to 20: [2, 4, 6, 8, 10, 12, 14, 16, 18, 20]\n"
     ]
    }
   ],
   "source": [
    "# Question 13. Create a list of even numbers from 1 to 20.\n",
    "even_numbers_list = list(range(2, 21, 2))\n",
    "print(\" List of even numbers from 1 to 20:\", even_numbers_list)"
   ]
  },
  {
   "cell_type": "code",
   "execution_count": 64,
   "id": "83ebc91a-cfec-40df-9139-bdc0b7fcc797",
   "metadata": {},
   "outputs": [
    {
     "name": "stdout",
     "output_type": "stream",
     "text": [
      " List of odd numbers from 1 to 20: [1, 3, 5, 7, 9, 11, 13, 15, 17, 19]\n"
     ]
    }
   ],
   "source": [
    "#Question 14. Create a list of odd numbers from 1 to 20.\n",
    "odd_numbers_list = list(range(1, 21, 2))\n",
    "print(\" List of odd numbers from 1 to 20:\", odd_numbers_list)"
   ]
  },
  {
   "cell_type": "code",
   "execution_count": 65,
   "id": "8ac4fbe4-f63c-4563-9897-4ec495393946",
   "metadata": {},
   "outputs": [
    {
     "name": "stdout",
     "output_type": "stream",
     "text": [
      " Sum of all elements in the list: 58\n"
     ]
    }
   ],
   "source": [
    "#Question 15. Find the sum of all elements in a list.\n",
    "list_sum = sum(integer_list)\n",
    "print(\" Sum of all elements in the list:\", list_sum)"
   ]
  },
  {
   "cell_type": "code",
   "execution_count": 66,
   "id": "26edff3c-97a9-44bf-8098-08c232998681",
   "metadata": {},
   "outputs": [
    {
     "name": "stdout",
     "output_type": "stream",
     "text": [
      " Maximum value in the list: 11\n"
     ]
    }
   ],
   "source": [
    "#Question 16. Find the maximum value in a list.\n",
    "max_value = max(integer_list)\n",
    "print(\" Maximum value in the list:\", max_value)"
   ]
  },
  {
   "cell_type": "code",
   "execution_count": 67,
   "id": "be96a441-a7ea-4d5b-ad6b-0a6f0674cc4c",
   "metadata": {},
   "outputs": [
    {
     "name": "stdout",
     "output_type": "stream",
     "text": [
      " Minimum value in the list: 0\n"
     ]
    }
   ],
   "source": [
    "#Question 17. Find the minimum value in a list.\n",
    "min_value = min(integer_list)\n",
    "print(\" Minimum value in the list:\", min_value)"
   ]
  },
  {
   "cell_type": "code",
   "execution_count": 68,
   "id": "92e9f4e4-cbce-41d0-acdd-8c8035f304bc",
   "metadata": {},
   "outputs": [
    {
     "name": "stdout",
     "output_type": "stream",
     "text": [
      " List of squares of numbers from 1 to 10: [1, 4, 9, 16, 25, 36, 49, 64, 81, 100]\n"
     ]
    }
   ],
   "source": [
    "#Question 18. Create a list of squares of numbers from 1 to 10.\n",
    "squares_list = [x**2 for x in range(1, 11)]\n",
    "print(\" List of squares of numbers from 1 to 10:\", squares_list)"
   ]
  },
  {
   "cell_type": "code",
   "execution_count": 69,
   "id": "872861d9-3840-4154-a9e3-81cca2fcfb82",
   "metadata": {},
   "outputs": [
    {
     "name": "stdout",
     "output_type": "stream",
     "text": [
      " List of random numbers: [88, 19, 51, 52, 47, 29, 24, 56, 88, 26]\n"
     ]
    }
   ],
   "source": [
    "#Question 19. Create a list of random numbers.\n",
    "import random\n",
    "random_numbers_list = [random.randint(1, 100) for _ in range(10)]\n",
    "print(\" List of random numbers:\", random_numbers_list)\n"
   ]
  },
  {
   "cell_type": "code",
   "execution_count": 70,
   "id": "17f99533-234d-4f43-a9d4-2253960696d5",
   "metadata": {},
   "outputs": [
    {
     "name": "stdout",
     "output_type": "stream",
     "text": [
      " List with duplicates removed: [1, 2, 3, 4, 5, 6, 7]\n"
     ]
    }
   ],
   "source": [
    "#Question 20. Remove duplicates from a list.\n",
    "duplicated_list = [1, 2, 3, 2, 4, 5, 6, 7, 4]\n",
    "unique_list = list(set(duplicated_list))\n",
    "print(\" List with duplicates removed:\", unique_list)\n"
   ]
  },
  {
   "cell_type": "code",
   "execution_count": 71,
   "id": "09105016-c66c-4783-82a1-bc6d11a30eec",
   "metadata": {},
   "outputs": [
    {
     "name": "stdout",
     "output_type": "stream",
     "text": [
      " Common elements between two lists: [3, 4, 5]\n"
     ]
    }
   ],
   "source": [
    "#Question 21. Find the common elements between two lists.\n",
    "list1 = [1, 2, 3, 4, 5]\n",
    "list2 = [3, 4, 5, 6, 7]\n",
    "common_elements = list(set(list1) & set(list2))\n",
    "print(\" Common elements between two lists:\", common_elements)\n"
   ]
  },
  {
   "cell_type": "code",
   "execution_count": 72,
   "id": "162abc15-7efb-4a16-8add-79b7108deb9a",
   "metadata": {},
   "outputs": [
    {
     "name": "stdout",
     "output_type": "stream",
     "text": [
      " Difference between two lists: [1, 2]\n"
     ]
    }
   ],
   "source": [
    "#Question  22. Find the difference between two lists.\n",
    "list1 = [1, 2, 3, 4, 5]\n",
    "list2 = [3, 4, 5, 6, 7]\n",
    "difference_list = list(set(list1) - set(list2))\n",
    "print(\" Difference between two lists:\", difference_list)\n"
   ]
  },
  {
   "cell_type": "code",
   "execution_count": 73,
   "id": "865a5979-9f42-4883-8677-58fb30e1c969",
   "metadata": {},
   "outputs": [
    {
     "name": "stdout",
     "output_type": "stream",
     "text": [
      " Merged list: [1, 2, 3, 4, 5, 3, 4, 5, 6, 7]\n"
     ]
    }
   ],
   "source": [
    "#Question 23. Merge two lists.\n",
    "merged_list = list1 + list2\n",
    "print(\" Merged list:\", merged_list)"
   ]
  },
  {
   "cell_type": "code",
   "execution_count": 74,
   "id": "8dcb36a0-36f8-41a2-a63d-0aec5293ba04",
   "metadata": {},
   "outputs": [
    {
     "name": "stdout",
     "output_type": "stream",
     "text": [
      " List with elements multiplied by 2: [2, 4, 6, 8, 10]\n"
     ]
    }
   ],
   "source": [
    "\n",
    "#Question  24. Multiply all elements in a list by 2.\n",
    "original_list = [1, 2, 3, 4, 5]\n",
    "multiplied_list = [x * 2 for x in original_list]\n",
    "print(\" List with elements multiplied by 2:\", multiplied_list)"
   ]
  },
  {
   "cell_type": "code",
   "execution_count": 75,
   "id": "5962e32b-28c5-4120-b7f4-875562a196f7",
   "metadata": {},
   "outputs": [
    {
     "name": "stdout",
     "output_type": "stream",
     "text": [
      " List with even numbers filtered out: [1, 3, 5, 7, 9]\n"
     ]
    }
   ],
   "source": [
    "#Question  25. Filter out all even numbers from a list.\n",
    "numbers_list = [1, 2, 3, 4, 5, 6, 7, 8, 9, 10]\n",
    "filtered_list = [x for x in numbers_list if x % 2 != 0]\n",
    "print(\" List with even numbers filtered out:\", filtered_list)"
   ]
  },
  {
   "cell_type": "code",
   "execution_count": 76,
   "id": "a795edba-1a1d-423e-bf30-c3ed422ba662",
   "metadata": {},
   "outputs": [
    {
     "name": "stdout",
     "output_type": "stream",
     "text": [
      " List of strings converted to integers: [1, 2, 3, 4, 5]\n"
     ]
    }
   ],
   "source": [
    "#Question 26. Convert a list of strings to a list of integers.\n",
    "\n",
    "string_list = [\"1\", \"2\", \"3\", \"4\", \"5\"]\n",
    "integer_list = list(map(int, string_list))\n",
    "print(\" List of strings converted to integers:\", integer_list)\n"
   ]
  },
  {
   "cell_type": "code",
   "execution_count": 77,
   "id": "c076a42a-f22f-4f60-ac23-86aebe1b2b63",
   "metadata": {},
   "outputs": [
    {
     "name": "stdout",
     "output_type": "stream",
     "text": [
      " List of integers converted to strings: ['1', '2', '3', '4', '5']\n"
     ]
    }
   ],
   "source": [
    "#Question  27. Convert a list of integers to a list of strings.\n",
    "integer_list = [1, 2, 3, 4, 5]\n",
    "string_list = list(map(str, integer_list))\n",
    "print(\" List of integers converted to strings:\", string_list)"
   ]
  },
  {
   "cell_type": "code",
   "execution_count": 78,
   "id": "e4dfad26-fdfb-453e-b683-5804a4da5b22",
   "metadata": {},
   "outputs": [
    {
     "name": "stdout",
     "output_type": "stream",
     "text": [
      " Flattened list: [1, 2, 3, 4, 5, 6, 7, 8, 9]\n"
     ]
    }
   ],
   "source": [
    "#Question  28. Flatten a nested list.\n",
    "nested_list = [[1, 2, 3], [4, 5, 6], [7, 8, 9]]\n",
    "flattened_list = [item for sublist in nested_list for item in sublist]\n",
    "print(\" Flattened list:\", flattened_list)"
   ]
  },
  {
   "cell_type": "code",
   "execution_count": 79,
   "id": "fd2099c2-0014-4d25-b184-8cd51328d211",
   "metadata": {},
   "outputs": [
    {
     "name": "stdout",
     "output_type": "stream",
     "text": [
      " List of the first 10 Fibonacci numbers: [0, 1, 1, 2, 3, 5, 8, 13, 21, 34]\n"
     ]
    }
   ],
   "source": [
    "#Question  29. Create a list of the first 10 Fibonacci numbers.\n",
    "def generate_fibonacci(n):\n",
    "    fibonacci_list = [0, 1]\n",
    "    while len(fibonacci_list) < n:\n",
    "        fibonacci_list.append(fibonacci_list[-1] + fibonacci_list[-2])\n",
    "    return fibonacci_list\n",
    "\n",
    "fibonacci_numbers = generate_fibonacci(10)\n",
    "print(\" List of the first 10 Fibonacci numbers:\", fibonacci_numbers)"
   ]
  },
  {
   "cell_type": "code",
   "execution_count": 80,
   "id": "5aea14af-3439-441f-81fc-63224e2c90a0",
   "metadata": {},
   "outputs": [
    {
     "name": "stdout",
     "output_type": "stream",
     "text": [
      " Is the list sorted? False\n"
     ]
    }
   ],
   "source": [
    "#Question  30. Check if a list is sorted.\n",
    "sorted_list = [1, 2, 3, 4, 5]\n",
    "unsorted_list = [5, 2, 1, 4, 3]\n",
    "is_sorted = sorted(unsorted_list) == unsorted_list\n",
    "print(\" Is the list sorted?\", is_sorted)"
   ]
  },
  {
   "cell_type": "code",
   "execution_count": 81,
   "id": "f6dd5db3-4f06-47bb-b3c8-3387dcb43ed7",
   "metadata": {},
   "outputs": [
    {
     "name": "stdout",
     "output_type": "stream",
     "text": [
      " List rotated to the left by 2 positions: [1, 4, 3, 5, 2]\n"
     ]
    }
   ],
   "source": [
    "#Question  31. Rotate a list to the left by `n` positions.\n",
    "n = 2\n",
    "rotated_left_list = unsorted_list[n:] + unsorted_list[:n]\n",
    "print(f\" List rotated to the left by {n} positions:\", rotated_left_list)\n"
   ]
  },
  {
   "cell_type": "code",
   "execution_count": 82,
   "id": "d2ca8b59-a261-48fd-bcd2-cbd41fc0a31f",
   "metadata": {},
   "outputs": [
    {
     "name": "stdout",
     "output_type": "stream",
     "text": [
      " List rotated to the right by 2 positions: [4, 3, 5, 2, 1]\n"
     ]
    }
   ],
   "source": [
    "#Question  32. Rotate a list to the right by `n` positions.\n",
    "rotated_right_list = unsorted_list[-n:] + unsorted_list[:-n]\n",
    "print(f\" List rotated to the right by {n} positions:\", rotated_right_list)\n"
   ]
  },
  {
   "cell_type": "code",
   "execution_count": 83,
   "id": "05255ee2-5ece-46ec-bda1-c5b63bcc128f",
   "metadata": {},
   "outputs": [
    {
     "name": "stdout",
     "output_type": "stream",
     "text": [
      " List of prime numbers up to 50: [2, 3, 5, 7, 11, 13, 17, 19, 23, 29, 31, 37, 41, 43, 47]\n"
     ]
    }
   ],
   "source": [
    "#Question  33. Create a list of prime numbers up to 50.\n",
    "def is_prime(num):\n",
    "    if num < 2:\n",
    "        return False\n",
    "    for i in range(2, int(num**0.5) + 1):\n",
    "        if num % i == 0:\n",
    "            return False\n",
    "    return True\n",
    "\n",
    "prime_numbers = [num for num in range(2, 51) if is_prime(num)]\n",
    "print(\" List of prime numbers up to 50:\", prime_numbers)"
   ]
  },
  {
   "cell_type": "code",
   "execution_count": 84,
   "id": "7ed89710-4a9f-44c9-aeca-ea64df3b4046",
   "metadata": {},
   "outputs": [
    {
     "name": "stdout",
     "output_type": "stream",
     "text": [
      " List split into chunks of size 3: [[5, 2, 1], [4, 3]]\n"
     ]
    }
   ],
   "source": [
    "#Question  34. Split a list into chunks of size `n`.\n",
    "chunk_size = 3\n",
    "chunked_list = [unsorted_list[i:i+chunk_size] for i in range(0, len(unsorted_list), chunk_size)]\n",
    "print(f\" List split into chunks of size {chunk_size}:\", chunked_list)\n"
   ]
  },
  {
   "cell_type": "code",
   "execution_count": 85,
   "id": "9a5b3e83-b7cc-48be-91bc-d60efe2bd631",
   "metadata": {},
   "outputs": [
    {
     "name": "stdout",
     "output_type": "stream",
     "text": [
      " Second largest number in the list: 4\n"
     ]
    }
   ],
   "source": [
    "#Question  35. Find the second largest number in a list.\n",
    "sorted_unique_list = sorted(set(unsorted_list), reverse=True)\n",
    "second_largest = sorted_unique_list[1] if len(sorted_unique_list) > 1 else None\n",
    "print(\" Second largest number in the list:\", second_largest)"
   ]
  },
  {
   "cell_type": "code",
   "execution_count": 86,
   "id": "ed52af45-e22f-4cec-8a48-00bf7f9b2144",
   "metadata": {},
   "outputs": [
    {
     "name": "stdout",
     "output_type": "stream",
     "text": [
      " List with elements replaced by their squares: [25, 4, 1, 16, 9]\n"
     ]
    }
   ],
   "source": [
    "#Question  36. Replace every element in a list with its square.\n",
    "squared_list = [x**2 for x in unsorted_list]\n",
    "print(\" List with elements replaced by their squares:\", squared_list)"
   ]
  },
  {
   "cell_type": "code",
   "execution_count": 87,
   "id": "ebc321de-52de-49a8-a8a7-f4c1717bd4d1",
   "metadata": {},
   "outputs": [
    {
     "name": "stdout",
     "output_type": "stream",
     "text": [
      " Dictionary created from the list: {5: 0, 2: 1, 1: 2, 4: 3, 3: 4}\n"
     ]
    }
   ],
   "source": [
    "#Question  37. Convert a list to a dictionary where list elements become keys and their indices become values.\n",
    "dict_from_list = {value: index for index, value in enumerate(unsorted_list)}\n",
    "print(\" Dictionary created from the list:\", dict_from_list)"
   ]
  },
  {
   "cell_type": "code",
   "execution_count": 88,
   "id": "913f79fa-2539-4726-a3df-eb24ed707c81",
   "metadata": {},
   "outputs": [
    {
     "name": "stdout",
     "output_type": "stream",
     "text": [
      " List with elements shuffled randomly: [5, 3, 2, 4, 1]\n"
     ]
    }
   ],
   "source": [
    "#Question  38. Shuffle the elements of a list randomly.\n",
    "import random\n",
    "shuffled_list = random.sample(unsorted_list, len(unsorted_list))\n",
    "print(\" List with elements shuffled randomly:\", shuffled_list)"
   ]
  },
  {
   "cell_type": "code",
   "execution_count": 89,
   "id": "57243b79-b0d2-41d3-b790-7c0aba68b843",
   "metadata": {},
   "outputs": [
    {
     "name": "stdout",
     "output_type": "stream",
     "text": [
      " List of the first 10 factorial numbers: [1, 1, 2, 6, 24, 120, 720, 5040, 40320, 362880]\n"
     ]
    }
   ],
   "source": [
    "#Question  39. Create a list of the first 10 factorial numbers.\n",
    "import math\n",
    "factorial_numbers = [math.factorial(i) for i in range(10)]\n",
    "print(\" List of the first 10 factorial numbers:\", factorial_numbers)"
   ]
  },
  {
   "cell_type": "code",
   "execution_count": 90,
   "id": "e019f9d0-d44c-4c82-93bc-9622e6f0cb85",
   "metadata": {},
   "outputs": [
    {
     "name": "stdout",
     "output_type": "stream",
     "text": [
      " Do the lists have at least one common element? True\n"
     ]
    }
   ],
   "source": [
    "#Question 40.Check if two lists have at least one element in common.\n",
    "\n",
    "list1 = [1, 2, 3, 4, 5]\n",
    "list2 = [5, 6, 7, 8, 9]\n",
    "have_common_element = any(element in list2 for element in list1)\n",
    "print(\" Do the lists have at least one common element?\", have_common_element)"
   ]
  },
  {
   "cell_type": "code",
   "execution_count": 91,
   "id": "99526e3d-3ac9-419d-8245-af7c2d99a238",
   "metadata": {},
   "outputs": [
    {
     "name": "stdout",
     "output_type": "stream",
     "text": [
      " List after removing all elements: []\n"
     ]
    }
   ],
   "source": [
    "#Question  41. Remove all elements from a list.\n",
    "list_to_clear = [1, 2, 3, 4, 5]\n",
    "list_to_clear.clear()\n",
    "print(\" List after removing all elements:\", list_to_clear)"
   ]
  },
  {
   "cell_type": "code",
   "execution_count": 92,
   "id": "33e8c60d-3ce6-4a7e-a895-181e71c0488b",
   "metadata": {},
   "outputs": [
    {
     "name": "stdout",
     "output_type": "stream",
     "text": [
      "List with negative numbers replaced by 0: [1, 0, 3, 0, 5]\n"
     ]
    }
   ],
   "source": [
    "#Question  42. Replace negative numbers in a list with 0.\n",
    "negative_numbers_list = [1, -2, 3, -4, 5]\n",
    "non_negative_list = [max(0, num) for num in negative_numbers_list]\n",
    "print(\"List with negative numbers replaced by 0:\", non_negative_list)"
   ]
  },
  {
   "cell_type": "code",
   "execution_count": 93,
   "id": "55f57ad1-291c-4c9b-8cf8-c2520c0f1f59",
   "metadata": {},
   "outputs": [
    {
     "name": "stdout",
     "output_type": "stream",
     "text": [
      " List of words from the string: ['This', 'is', 'a', 'sample', 'sentence.']\n"
     ]
    }
   ],
   "source": [
    "#Question  43. Convert a string into a list of words.\n",
    "string_to_split = \"This is a sample sentence.\"\n",
    "word_list = string_to_split.split()\n",
    "print(\" List of words from the string:\", word_list)"
   ]
  },
  {
   "cell_type": "code",
   "execution_count": 94,
   "id": "dc666616-a42e-4ec9-bf2b-f6ef4e55fa64",
   "metadata": {},
   "outputs": [
    {
     "name": "stdout",
     "output_type": "stream",
     "text": [
      "String from the list of words: This is a sample list.\n"
     ]
    }
   ],
   "source": [
    "#Question  44. Convert a list of words into a string.\n",
    "word_list_to_join = [\"This\", \"is\", \"a\", \"sample\", \"list.\"]\n",
    "string_from_list = ' '.join(word_list_to_join)\n",
    "print(\"String from the list of words:\", string_from_list)\n"
   ]
  },
  {
   "cell_type": "code",
   "execution_count": 95,
   "id": "87fb6a88-a4de-4677-be3f-840cca8b85ec",
   "metadata": {},
   "outputs": [
    {
     "name": "stdout",
     "output_type": "stream",
     "text": [
      " List of the first 5 powers of 2: [1, 2, 4, 8, 16]\n"
     ]
    }
   ],
   "source": [
    "#Question  45. Create a list of the first `n` powers of 2.\n",
    "n = 5\n",
    "powers_of_2 = [2**i for i in range(n)]\n",
    "print(\" List of the first\", n, \"powers of 2:\", powers_of_2)"
   ]
  },
  {
   "cell_type": "code",
   "execution_count": 96,
   "id": "d06695e5-bd7f-4a21-a45a-2a8afb43bcc0",
   "metadata": {},
   "outputs": [
    {
     "name": "stdout",
     "output_type": "stream",
     "text": [
      " Longest string in the list: strawberry\n"
     ]
    }
   ],
   "source": [
    "\n",
    "#Question  46. Find the longest string in a list of strings.\n",
    "strings_list = [\"apple\", \"banana\", \"kiwi\", \"strawberry\"]\n",
    "longest_string = max(strings_list, key=len)\n",
    "print(\" Longest string in the list:\", longest_string)"
   ]
  },
  {
   "cell_type": "code",
   "execution_count": 97,
   "id": "6bc7ae0a-4c5a-4b5c-a2f8-21fae6dd4844",
   "metadata": {},
   "outputs": [
    {
     "name": "stdout",
     "output_type": "stream",
     "text": [
      " Shortest string in the list: kiwi\n"
     ]
    }
   ],
   "source": [
    "#Question  47. Find the shortest string in a list of strings.\n",
    "shortest_string = min(strings_list, key=len)\n",
    "print(\" Shortest string in the list:\", shortest_string)"
   ]
  },
  {
   "cell_type": "code",
   "execution_count": 98,
   "id": "916a7d6b-86fa-4ea8-8316-18771c22b140",
   "metadata": {},
   "outputs": [
    {
     "name": "stdout",
     "output_type": "stream",
     "text": [
      " List of the first 5 triangular numbers: [0, 1, 3, 6, 10]\n"
     ]
    }
   ],
   "source": [
    "#Question  48. Create a list of the first `n` triangular numbers.\n",
    "triangular_numbers = [i * (i + 1) // 2 for i in range(n)]\n",
    "print(\" List of the first\", n, \"triangular numbers:\", triangular_numbers)"
   ]
  },
  {
   "cell_type": "code",
   "execution_count": 99,
   "id": "22095195-fb8a-4145-9f90-ba26eab2fe69",
   "metadata": {},
   "outputs": [
    {
     "name": "stdout",
     "output_type": "stream",
     "text": [
      " Is list1 a subsequence of list3? True\n"
     ]
    }
   ],
   "source": [
    "#Question  49. Check if a list contains another list as a subsequence.\n",
    "list3 = [1, 2, 3, 4, 5, 6]\n",
    "is_subsequence = all(element in list3 for element in list1)\n",
    "print(\" Is list1 a subsequence of list3?\", is_subsequence)"
   ]
  },
  {
   "cell_type": "code",
   "execution_count": 100,
   "id": "2a14b5af-be2e-4ad4-94a5-f137550c4e34",
   "metadata": {},
   "outputs": [
    {
     "name": "stdout",
     "output_type": "stream",
     "text": [
      " List after swapping elements at indices 1 and 3 : [1, 4, 3, 2, 5]\n"
     ]
    }
   ],
   "source": [
    "#Question  50. Swap two elements in a list by their indices.\n",
    "list_to_swap = [1, 2, 3, 4, 5]\n",
    "index1, index2 = 1, 3\n",
    "list_to_swap[index1], list_to_swap[index2] = list_to_swap[index2], list_to_swap[index1]\n",
    "print(\" List after swapping elements at indices\", index1, \"and\", index2, \":\", list_to_swap)"
   ]
  },
  {
   "cell_type": "code",
   "execution_count": 101,
   "id": "ae47c3c0-9427-4772-a09c-d41431c09e4d",
   "metadata": {},
   "outputs": [
    {
     "name": "stdout",
     "output_type": "stream",
     "text": [
      " Tuple with integers from 1 to 5: (1, 2, 3, 4, 5)\n"
     ]
    }
   ],
   "source": [
    "#Tuple Based Practice Problem :\n",
    "# 1. Create a tuple with integers from 1 to 5.\n",
    "integer_tuple = tuple(range(1, 6))\n",
    "print(\" Tuple with integers from 1 to 5:\", integer_tuple)"
   ]
  },
  {
   "cell_type": "code",
   "execution_count": 102,
   "id": "ed3e57f6-c4a9-4ac9-a996-61bf0d64239a",
   "metadata": {},
   "outputs": [
    {
     "name": "stdout",
     "output_type": "stream",
     "text": [
      " Third element of the tuple: 3\n"
     ]
    }
   ],
   "source": [
    "# 2. Access the third element of a tuple.\n",
    "third_element = integer_tuple[2]\n",
    "print(\" Third element of the tuple:\", third_element)"
   ]
  },
  {
   "cell_type": "code",
   "execution_count": 103,
   "id": "fa6eb6be-e164-4fb9-8c1d-cc7f2b6f56d0",
   "metadata": {},
   "outputs": [
    {
     "name": "stdout",
     "output_type": "stream",
     "text": [
      " Length of the tuple: 5\n"
     ]
    }
   ],
   "source": [
    "# 3. Find the length of a tuple without using the `len()` function.\n",
    "def calculate_tuple_length(input_tuple):\n",
    "    count = 0\n",
    "    for _ in input_tuple:\n",
    "        count += 1\n",
    "    return count\n",
    "\n",
    "tuple_length = calculate_tuple_length(integer_tuple)\n",
    "print(\" Length of the tuple:\", tuple_length)"
   ]
  },
  {
   "cell_type": "code",
   "execution_count": 104,
   "id": "66538c52-b44f-449c-aac5-e09ecb8377a4",
   "metadata": {},
   "outputs": [
    {
     "name": "stdout",
     "output_type": "stream",
     "text": [
      " Number of occurrences of 3 in the tuple: 1\n"
     ]
    }
   ],
   "source": [
    "# 4. Count the occurrences of an element in a tuple.\n",
    "element_to_count = 3\n",
    "occurrences_count = integer_tuple.count(element_to_count)\n",
    "print(f\" Number of occurrences of {element_to_count} in the tuple:\", occurrences_count)"
   ]
  },
  {
   "cell_type": "code",
   "execution_count": 105,
   "id": "498c8766-cd86-477b-b4dc-3692f1f5e05a",
   "metadata": {},
   "outputs": [
    {
     "name": "stdout",
     "output_type": "stream",
     "text": [
      " Index of the first occurrence of 4 in the tuple: 3\n"
     ]
    }
   ],
   "source": [
    "# 5. Find the index of the first occurrence of an element in a tuple.\n",
    "element_to_find_index = 4\n",
    "index_of_element = integer_tuple.index(element_to_find_index)\n",
    "print(f\" Index of the first occurrence of {element_to_find_index} in the tuple:\", index_of_element)\n"
   ]
  },
  {
   "cell_type": "code",
   "execution_count": 106,
   "id": "f2030da7-e349-4662-9932-4a1621bb66e5",
   "metadata": {},
   "outputs": [
    {
     "name": "stdout",
     "output_type": "stream",
     "text": [
      " Element 3 exists in the tuple: True\n"
     ]
    }
   ],
   "source": [
    "# 6. Check if an element exists in a tuple.\n",
    "element_to_check = 3\n",
    "element_exists = element_to_check in integer_tuple\n",
    "print(f\" Element {element_to_check} exists in the tuple: {element_exists}\")"
   ]
  },
  {
   "cell_type": "code",
   "execution_count": 107,
   "id": "f2e2a8ef-53f2-48c5-a088-ccbcbae8c02f",
   "metadata": {},
   "outputs": [
    {
     "name": "stdout",
     "output_type": "stream",
     "text": [
      " Tuple converted to a list: [1, 2, 3, 4, 5]\n"
     ]
    }
   ],
   "source": [
    "# 7. Convert a tuple to a list.\n",
    "tuple_to_list = list(integer_tuple)\n",
    "print(\" Tuple converted to a list:\", tuple_to_list)"
   ]
  },
  {
   "cell_type": "code",
   "execution_count": 108,
   "id": "ea79002d-2b54-47dc-ac1f-263d2b56905b",
   "metadata": {},
   "outputs": [
    {
     "name": "stdout",
     "output_type": "stream",
     "text": [
      "List converted to a tuple: (1, 2, 3, 4, 5)\n"
     ]
    }
   ],
   "source": [
    "# 8. Convert a list to a tuple.\n",
    "list_to_tuple = tuple(tuple_to_list)\n",
    "print(\"List converted to a tuple:\", list_to_tuple)\n"
   ]
  },
  {
   "cell_type": "code",
   "execution_count": 109,
   "id": "0f131c90-576a-4365-969c-9a928b7d9894",
   "metadata": {},
   "outputs": [
    {
     "name": "stdout",
     "output_type": "stream",
     "text": [
      " Unpacked variables: 1 2 3 4 5\n"
     ]
    }
   ],
   "source": [
    "# 9. Unpack the elements of a tuple into variables.\n",
    "var1, var2, var3, var4, var5 = integer_tuple\n",
    "print(\" Unpacked variables:\", var1, var2, var3, var4, var5)"
   ]
  },
  {
   "cell_type": "code",
   "execution_count": 110,
   "id": "f260adf8-ccb3-4bfa-b111-5dccbb8b2a0f",
   "metadata": {},
   "outputs": [
    {
     "name": "stdout",
     "output_type": "stream",
     "text": [
      "Tuple of even numbers from 1 to 10: (2, 4, 6, 8, 10)\n"
     ]
    }
   ],
   "source": [
    "# 10. Create a tuple of even numbers from 1 to 10.\n",
    "even_numbers_tuple = tuple(range(2, 11, 2))\n",
    "print(\"Tuple of even numbers from 1 to 10:\", even_numbers_tuple)"
   ]
  },
  {
   "cell_type": "code",
   "execution_count": 111,
   "id": "e13e7b06-639f-4390-a557-4b00c918c98e",
   "metadata": {},
   "outputs": [
    {
     "name": "stdout",
     "output_type": "stream",
     "text": [
      " Tuple of odd numbers from 1 to 10: (1, 3, 5, 7, 9)\n"
     ]
    }
   ],
   "source": [
    "# 11. Create a tuple of odd numbers from 1 to 10.\n",
    "odd_numbers_tuple = tuple(range(1, 10, 2))\n",
    "print(\" Tuple of odd numbers from 1 to 10:\", odd_numbers_tuple)\n"
   ]
  },
  {
   "cell_type": "code",
   "execution_count": 112,
   "id": "e87fbff5-4044-494c-bca9-54d2d8aa1715",
   "metadata": {},
   "outputs": [
    {
     "name": "stdout",
     "output_type": "stream",
     "text": [
      " Concatenated tuple: (1, 2, 3, 4, 5, 6)\n"
     ]
    }
   ],
   "source": [
    "# 12. Concatenate two tuples.\n",
    "tuple1 = (1, 2, 3)\n",
    "tuple2 = (4, 5, 6)\n",
    "concatenated_tuple = tuple1 + tuple2\n",
    "print(\" Concatenated tuple:\", concatenated_tuple)\n"
   ]
  },
  {
   "cell_type": "code",
   "execution_count": 113,
   "id": "940ceb0c-402e-4f24-97f4-468f137d00f8",
   "metadata": {},
   "outputs": [
    {
     "name": "stdout",
     "output_type": "stream",
     "text": [
      " Repeated tuple three times: (1, 2, 3, 4, 5, 1, 2, 3, 4, 5, 1, 2, 3, 4, 5)\n"
     ]
    }
   ],
   "source": [
    "# 13. Repeat a tuple three times.\n",
    "repeated_tuple = integer_tuple * 3\n",
    "print(\" Repeated tuple three times:\", repeated_tuple)"
   ]
  },
  {
   "cell_type": "code",
   "execution_count": 114,
   "id": "221501f6-e69f-4b7b-9664-c3bbc31c5b80",
   "metadata": {},
   "outputs": [
    {
     "name": "stdout",
     "output_type": "stream",
     "text": [
      " Is the tuple empty? True\n"
     ]
    }
   ],
   "source": [
    "# 14. Check if a tuple is empty.\n",
    "empty_tuple = ()\n",
    "is_empty = not bool(empty_tuple)\n",
    "print(\" Is the tuple empty?\", is_empty)"
   ]
  },
  {
   "cell_type": "code",
   "execution_count": 115,
   "id": "3098c05b-d379-4680-b13b-a9f4e64e85a3",
   "metadata": {},
   "outputs": [
    {
     "name": "stdout",
     "output_type": "stream",
     "text": [
      " Nested tuple: (1, (2, 3), 4)\n"
     ]
    }
   ],
   "source": [
    "# 15. Create a nested tuple.\n",
    "nested_tuple = (1, (2, 3), 4)\n",
    "print(\" Nested tuple:\", nested_tuple)\n"
   ]
  },
  {
   "cell_type": "code",
   "execution_count": 116,
   "id": "df895dd0-a105-4862-8a6c-45ff40eb0db7",
   "metadata": {},
   "outputs": [
    {
     "name": "stdout",
     "output_type": "stream",
     "text": [
      " First element of the nested tuple: 1\n"
     ]
    }
   ],
   "source": [
    "# 16. Access the first element of a nested tuple.\n",
    "first_element_of_nested = nested_tuple[0]\n",
    "print(\" First element of the nested tuple:\", first_element_of_nested)"
   ]
  },
  {
   "cell_type": "code",
   "execution_count": 117,
   "id": "01cf1c6d-852c-4118-bca2-8931f14545ec",
   "metadata": {},
   "outputs": [
    {
     "name": "stdout",
     "output_type": "stream",
     "text": [
      " Tuple with a single element: (42,)\n"
     ]
    }
   ],
   "source": [
    "# 17. Create a tuple with a single element.\n",
    "single_element_tuple = (42,)\n",
    "print(\" Tuple with a single element:\", single_element_tuple)"
   ]
  },
  {
   "cell_type": "code",
   "execution_count": 118,
   "id": "637e3589-2860-4b8c-822d-7147de688f23",
   "metadata": {},
   "outputs": [
    {
     "name": "stdout",
     "output_type": "stream",
     "text": [
      " Comparison result of two tuples: -1\n"
     ]
    }
   ],
   "source": [
    "# 18. Compare two tuples.\n",
    "tuple_a = (1, 2, 3)\n",
    "tuple_b = (1, 2, 4)\n",
    "comparison_result = (tuple_a > tuple_b) - (tuple_a < tuple_b)\n",
    "print(\" Comparison result of two tuples:\", comparison_result)"
   ]
  },
  {
   "cell_type": "code",
   "execution_count": 119,
   "id": "3058ce58-fb2a-4789-9a53-c55a2f01ed68",
   "metadata": {},
   "outputs": [],
   "source": [
    "# 19. Delete a tuple.\n",
    "del_tuple = (1, 2, 3)\n",
    "del del_tuple\n",
    "# After deletion, attempting to access del_tuple will result in an error.\n"
   ]
  },
  {
   "cell_type": "code",
   "execution_count": 120,
   "id": "c742604d-a4ef-4e72-8a7c-091ecf85a411",
   "metadata": {},
   "outputs": [
    {
     "name": "stdout",
     "output_type": "stream",
     "text": [
      " Sliced tuple: (2, 3, 4)\n"
     ]
    }
   ],
   "source": [
    "# 20. Slice a tuple.\n",
    "sliced_tuple = integer_tuple[1:4]\n",
    "print(\" Sliced tuple:\", sliced_tuple)"
   ]
  },
  {
   "cell_type": "code",
   "execution_count": 121,
   "id": "9aa5951b-dbf0-4c89-92de-5e44bff4d2d2",
   "metadata": {},
   "outputs": [
    {
     "name": "stdout",
     "output_type": "stream",
     "text": [
      " Maximum value in the tuple: 5\n"
     ]
    }
   ],
   "source": [
    "# 21. Find the maximum value in a tuple.\n",
    "max_value_in_tuple = max(integer_tuple)\n",
    "print(\" Maximum value in the tuple:\", max_value_in_tuple)"
   ]
  },
  {
   "cell_type": "code",
   "execution_count": 122,
   "id": "cc5a9614-72a0-4257-a4ff-e88572cf5164",
   "metadata": {},
   "outputs": [
    {
     "name": "stdout",
     "output_type": "stream",
     "text": [
      " Minimum value in the tuple: 1\n"
     ]
    }
   ],
   "source": [
    "# 22. Find the minimum value in a tuple.\n",
    "min_value_in_tuple = min(integer_tuple)\n",
    "print(\" Minimum value in the tuple:\", min_value_in_tuple)"
   ]
  },
  {
   "cell_type": "code",
   "execution_count": 123,
   "id": "739d66a7-3edc-471d-83ce-7f2ee8fbde83",
   "metadata": {},
   "outputs": [
    {
     "name": "stdout",
     "output_type": "stream",
     "text": [
      " Tuple of characters from the string: ('H', 'e', 'l', 'l', 'o')\n"
     ]
    }
   ],
   "source": [
    "# 23. Convert a string to a tuple of characters.\n",
    "string_to_convert = \"Hello\"\n",
    "char_tuple = tuple(string_to_convert)\n",
    "print(\" Tuple of characters from the string:\", char_tuple)\n"
   ]
  },
  {
   "cell_type": "code",
   "execution_count": 124,
   "id": "fd17d574-ba36-4fec-866a-8ba7a189fac7",
   "metadata": {},
   "outputs": [
    {
     "name": "stdout",
     "output_type": "stream",
     "text": [
      " String from the tuple of characters: Hello\n"
     ]
    }
   ],
   "source": [
    "# 24. Convert a tuple of characters to a string.\n",
    "char_tuple_to_string = ''.join(char_tuple)\n",
    "print(\" String from the tuple of characters:\", char_tuple_to_string)"
   ]
  },
  {
   "cell_type": "code",
   "execution_count": 125,
   "id": "20fa9cd7-8d26-4916-8577-f546a3060c06",
   "metadata": {},
   "outputs": [
    {
     "name": "stdout",
     "output_type": "stream",
     "text": [
      " Tuple with multiple data types: (1, 'two', 3.0, [4, 5])\n"
     ]
    }
   ],
   "source": [
    "# 25. Create a tuple from multiple data types.\n",
    "mixed_data_types_tuple = (1, \"two\", 3.0, [4, 5])\n",
    "print(\" Tuple with multiple data types:\", mixed_data_types_tuple)"
   ]
  },
  {
   "cell_type": "code",
   "execution_count": 126,
   "id": "4a3220db-c371-43f0-845c-ed866cb64f87",
   "metadata": {},
   "outputs": [
    {
     "name": "stdout",
     "output_type": "stream",
     "text": [
      " Are the two tuples identical? True\n"
     ]
    }
   ],
   "source": [
    "# 26. Check if two tuples are identical.\n",
    "tuple_a = (1, 2, 3)\n",
    "tuple_b = (1, 2, 3)\n",
    "are_identical = tuple_a == tuple_b\n",
    "print(\" Are the two tuples identical?\", are_identical)"
   ]
  },
  {
   "cell_type": "code",
   "execution_count": 127,
   "id": "dbbcd1bb-e6ce-49f0-bed1-7b1f5d3c29a8",
   "metadata": {},
   "outputs": [
    {
     "name": "stdout",
     "output_type": "stream",
     "text": [
      " Sorted tuple: (1, 2, 3, 4, 5)\n"
     ]
    }
   ],
   "source": [
    "# 27. Sort the elements of a tuple.\n",
    "unsorted_tuple = (5, 3, 1, 4, 2)\n",
    "sorted_tuple = tuple(sorted(unsorted_tuple))\n",
    "print(\" Sorted tuple:\", sorted_tuple)"
   ]
  },
  {
   "cell_type": "code",
   "execution_count": 128,
   "id": "3c96aa68-7edb-419c-af5d-2719aa0a1df3",
   "metadata": {},
   "outputs": [
    {
     "name": "stdout",
     "output_type": "stream",
     "text": [
      " Tuple of integers converted to a tuple of strings: ('1', '2', '3', '4', '5')\n"
     ]
    }
   ],
   "source": [
    "# 28. Convert a tuple of integers to a tuple of strings.\n",
    "int_tuple = (1, 2, 3, 4, 5)\n",
    "str_tuple = tuple(map(str, int_tuple))\n",
    "print(\" Tuple of integers converted to a tuple of strings:\", str_tuple)\n"
   ]
  },
  {
   "cell_type": "code",
   "execution_count": 129,
   "id": "6d70a38d-eecf-414f-9024-d1355a6cb8a3",
   "metadata": {},
   "outputs": [
    {
     "name": "stdout",
     "output_type": "stream",
     "text": [
      "Tuple of strings converted to a tuple of integers: (1, 2, 3, 4, 5)\n"
     ]
    }
   ],
   "source": [
    "# 29. Convert a tuple of strings to a tuple of integers.\n",
    "str_to_int_tuple = tuple(map(int, str_tuple))\n",
    "print(\"Tuple of strings converted to a tuple of integers:\", str_to_int_tuple)\n"
   ]
  },
  {
   "cell_type": "code",
   "execution_count": 130,
   "id": "a873c946-b802-4fab-a4c4-10b1d8ed26e8",
   "metadata": {},
   "outputs": [
    {
     "name": "stdout",
     "output_type": "stream",
     "text": [
      " Merged tuple: (1, 2, 3, 4, 5, 6, 7, 8)\n"
     ]
    }
   ],
   "source": [
    "# 30. Merge two tuples.\n",
    "tuple_c = (6, 7, 8)\n",
    "merged_tuple = integer_tuple + tuple_c\n",
    "print(\" Merged tuple:\", merged_tuple)"
   ]
  },
  {
   "cell_type": "code",
   "execution_count": 131,
   "id": "fe8aff33-4410-40b0-b911-de3a0c40a162",
   "metadata": {},
   "outputs": [
    {
     "name": "stdout",
     "output_type": "stream",
     "text": [
      " Flattened tuple: (1, 2, 3, 4, 5, 6)\n"
     ]
    }
   ],
   "source": [
    "# 31. Flatten a nested tuple.\n",
    "nested_tuple_to_flatten = ((1, 2), (3, 4), (5, 6))\n",
    "flattened_tuple = tuple(item for sublist in nested_tuple_to_flatten for item in sublist)\n",
    "print(\" Flattened tuple:\", flattened_tuple)"
   ]
  },
  {
   "cell_type": "code",
   "execution_count": 132,
   "id": "c2c16d2e-7829-4cc9-81ca-cb093318ebc5",
   "metadata": {},
   "outputs": [
    {
     "name": "stdout",
     "output_type": "stream",
     "text": [
      " Tuple of the first 5 prime numbers: (2, 3, 5, 7, 11)\n"
     ]
    }
   ],
   "source": [
    "# 32. Create a tuple of the first 5 prime numbers.\n",
    "prime_numbers_tuple = (2, 3, 5, 7, 11)\n",
    "print(\" Tuple of the first 5 prime numbers:\", prime_numbers_tuple)"
   ]
  },
  {
   "cell_type": "code",
   "execution_count": 133,
   "id": "20c65c5b-d469-4d6d-bd42-0f02cadd5bba",
   "metadata": {},
   "outputs": [
    {
     "name": "stdout",
     "output_type": "stream",
     "text": [
      " Is the tuple a palindrome? True\n"
     ]
    }
   ],
   "source": [
    "# 33. Check if a tuple is a palindrome.\n",
    "palindrome_tuple = (1, 2, 3, 2, 1)\n",
    "is_palindrome = palindrome_tuple == palindrome_tuple[::-1]\n",
    "print(\" Is the tuple a palindrome?\", is_palindrome)"
   ]
  },
  {
   "cell_type": "code",
   "execution_count": 134,
   "id": "f2a7fb27-5b72-4fb0-8f17-746e9dba3804",
   "metadata": {},
   "outputs": [
    {
     "name": "stdout",
     "output_type": "stream",
     "text": [
      " Tuple of squares of numbers from 1 to 5: (1, 4, 9, 16, 25)\n"
     ]
    }
   ],
   "source": [
    "# 34. Create a tuple of squares of numbers from 1 to 5.\n",
    "squares_tuple = tuple(x**2 for x in range(1, 6))\n",
    "print(\" Tuple of squares of numbers from 1 to 5:\", squares_tuple)"
   ]
  },
  {
   "cell_type": "code",
   "execution_count": 135,
   "id": "03318b9c-45f0-472e-a98e-dc9066cf28f8",
   "metadata": {},
   "outputs": [
    {
     "name": "stdout",
     "output_type": "stream",
     "text": [
      " Tuple with even numbers filtered out: (2, 4)\n"
     ]
    }
   ],
   "source": [
    "# 35. Filter out all even numbers from a tuple.\n",
    "even_numbers_tuple = tuple(x for x in integer_tuple if x % 2 == 0)\n",
    "print(\" Tuple with even numbers filtered out:\", even_numbers_tuple)"
   ]
  },
  {
   "cell_type": "code",
   "execution_count": 136,
   "id": "33e0ae64-61b7-4428-b0e0-d552e9e42712",
   "metadata": {},
   "outputs": [
    {
     "name": "stdout",
     "output_type": "stream",
     "text": [
      " Tuple with elements multiplied by 2: (2, 4, 6, 8, 10)\n"
     ]
    }
   ],
   "source": [
    "# 36. Multiply all elements in a tuple by 2.\n",
    "multiplied_tuple = tuple(x * 2 for x in integer_tuple)\n",
    "print(\" Tuple with elements multiplied by 2:\", multiplied_tuple)"
   ]
  },
  {
   "cell_type": "code",
   "execution_count": 137,
   "id": "997618e6-8824-4bcb-8023-373da5ad4e33",
   "metadata": {},
   "outputs": [
    {
     "name": "stdout",
     "output_type": "stream",
     "text": [
      " Tuple of random numbers: (47, 30, 69, 84, 62)\n"
     ]
    }
   ],
   "source": [
    "# 37. Create a tuple of random numbers.\n",
    "import random\n",
    "random_numbers_tuple = tuple(random.randint(1, 100) for _ in range(5))\n",
    "print(\" Tuple of random numbers:\", random_numbers_tuple)\n"
   ]
  },
  {
   "cell_type": "code",
   "execution_count": 138,
   "id": "7af19c9f-7246-4e58-9f20-f43396754509",
   "metadata": {},
   "outputs": [
    {
     "name": "stdout",
     "output_type": "stream",
     "text": [
      " Is the tuple sorted? False\n"
     ]
    }
   ],
   "source": [
    "# 38. Check if a tuple is sorted.\n",
    "sorted_tuple = tuple(sorted(unsorted_tuple))\n",
    "is_sorted_tuple = sorted_tuple == unsorted_tuple\n",
    "print(\" Is the tuple sorted?\", is_sorted_tuple)\n"
   ]
  },
  {
   "cell_type": "code",
   "execution_count": 139,
   "id": "829e0a5c-b18f-4695-a0c8-3178d8330027",
   "metadata": {},
   "outputs": [
    {
     "name": "stdout",
     "output_type": "stream",
     "text": [
      " Tuple rotated to the left by 2 positions: (1, 4, 2, 5, 3)\n"
     ]
    }
   ],
   "source": [
    "# 39. Rotate a tuple to the left by `n` positions.\n",
    "n = 2\n",
    "rotated_left_tuple = unsorted_tuple[n:] + unsorted_tuple[:n]\n",
    "print(f\" Tuple rotated to the left by {n} positions:\", rotated_left_tuple)\n"
   ]
  },
  {
   "cell_type": "code",
   "execution_count": 140,
   "id": "e276db51-9f41-45c5-a542-255c64d1dc64",
   "metadata": {},
   "outputs": [
    {
     "name": "stdout",
     "output_type": "stream",
     "text": [
      " Tuple rotated to the right by 2 positions: (4, 2, 5, 3, 1)\n"
     ]
    }
   ],
   "source": [
    "# 40. Rotate a tuple to the right by `n` positions.\n",
    "rotated_right_tuple = unsorted_tuple[-n:] + unsorted_tuple[:-n]\n",
    "print(f\" Tuple rotated to the right by {n} positions:\", rotated_right_tuple)"
   ]
  },
  {
   "cell_type": "code",
   "execution_count": 141,
   "id": "cbc98aaa-38ef-4fce-99a6-acd65a9c473f",
   "metadata": {},
   "outputs": [
    {
     "name": "stdout",
     "output_type": "stream",
     "text": [
      " Tuple of the first 5 Fibonacci numbers: (0, 1, 1, 2, 3)\n"
     ]
    }
   ],
   "source": [
    "# 41. Create a tuple of the first 5 Fibonacci numbers.\n",
    "def generate_fibonacci_tuple(n):\n",
    "    fibonacci_tuple = (0, 1)\n",
    "    while len(fibonacci_tuple) < n:\n",
    "        fibonacci_tuple += (fibonacci_tuple[-1] + fibonacci_tuple[-2],)\n",
    "    return fibonacci_tuple\n",
    "\n",
    "fibonacci_numbers_tuple = generate_fibonacci_tuple(5)\n",
    "print(\" Tuple of the first 5 Fibonacci numbers:\", fibonacci_numbers_tuple)"
   ]
  },
  {
   "cell_type": "code",
   "execution_count": 142,
   "id": "1a7e91c9-49a3-4b99-9494-8d98165ab2e5",
   "metadata": {},
   "outputs": [
    {
     "name": "stdin",
     "output_type": "stream",
     "text": [
      " Enter numbers separated by spaces:  1 2 3 4 5\n"
     ]
    },
    {
     "name": "stdout",
     "output_type": "stream",
     "text": [
      " Tuple created from user input: (1, 2, 3, 4, 5)\n"
     ]
    }
   ],
   "source": [
    "# 42. Create a tuple from user input.\n",
    "user_input_tuple = tuple(map(int, input(\" Enter numbers separated by spaces: \").split()))\n",
    "print(\" Tuple created from user input:\", user_input_tuple)\n"
   ]
  },
  {
   "cell_type": "code",
   "execution_count": 143,
   "id": "7460558a-7ec5-4d78-98ee-f1c762aeb3fb",
   "metadata": {},
   "outputs": [
    {
     "name": "stdout",
     "output_type": "stream",
     "text": [
      "Tuple after swapping elements at indices 1 and 3: (1, 4, 3, 2, 5)\n"
     ]
    }
   ],
   "source": [
    "# 43. Swap two elements in a tuple.\n",
    "tuple_to_swap = (1, 2, 3, 4, 5)\n",
    "index1, index2 = 1, 3\n",
    "list_from_tuple = list(tuple_to_swap)\n",
    "list_from_tuple[index1], list_from_tuple[index2] = list_from_tuple[index2], list_from_tuple[index1]\n",
    "swapped_tuple = tuple(list_from_tuple)\n",
    "print(f\"Tuple after swapping elements at indices {index1} and {index2}:\", swapped_tuple)"
   ]
  },
  {
   "cell_type": "code",
   "execution_count": 144,
   "id": "253ed44a-d515-47e1-b5f3-3733f32a9cc3",
   "metadata": {},
   "outputs": [
    {
     "name": "stdout",
     "output_type": "stream",
     "text": [
      "Reversed tuple: (2, 4, 1, 3, 5)\n"
     ]
    }
   ],
   "source": [
    "# 44. Reverse the elements of a tuple.\n",
    "reversed_tuple = tuple(reversed(unsorted_tuple))\n",
    "print(\"Reversed tuple:\", reversed_tuple)\n"
   ]
  },
  {
   "cell_type": "code",
   "execution_count": 145,
   "id": "5ef8a4fd-ca55-414c-beef-70087bd55b17",
   "metadata": {},
   "outputs": [
    {
     "name": "stdout",
     "output_type": "stream",
     "text": [
      " Tuple of the first 5 powers of 2: (1, 2, 4, 8, 16)\n"
     ]
    }
   ],
   "source": [
    "# 45. Create a tuple of the first `n` powers of 2.\n",
    "powers_of_2_tuple = tuple(2**i for i in range(5))\n",
    "print(\" Tuple of the first 5 powers of 2:\", powers_of_2_tuple)\n"
   ]
  },
  {
   "cell_type": "code",
   "execution_count": 146,
   "id": "fc841c3f-751d-427f-9b22-dbcc2504daf8",
   "metadata": {},
   "outputs": [
    {
     "name": "stdout",
     "output_type": "stream",
     "text": [
      " Longest string in the tuple: strawberry\n"
     ]
    }
   ],
   "source": [
    "# 46. Find the longest string in a tuple of strings.\n",
    "strings_tuple = (\"apple\", \"banana\", \"kiwi\", \"strawberry\")\n",
    "longest_string_tuple = max(strings_tuple, key=len)\n",
    "print(\" Longest string in the tuple:\", longest_string_tuple)"
   ]
  },
  {
   "cell_type": "code",
   "execution_count": 147,
   "id": "eb8c75b9-ec5e-4df1-ab4a-3387db6fb2be",
   "metadata": {},
   "outputs": [
    {
     "name": "stdout",
     "output_type": "stream",
     "text": [
      " Shortest string in the tuple: kiwi\n"
     ]
    }
   ],
   "source": [
    "# 47. Find the shortest string in a tuple of strings.\n",
    "shortest_string_tuple = min(strings_tuple, key=len)\n",
    "print(\" Shortest string in the tuple:\", shortest_string_tuple)"
   ]
  },
  {
   "cell_type": "code",
   "execution_count": 148,
   "id": "cd205a30-1534-4fc6-8d90-fa895a891c51",
   "metadata": {},
   "outputs": [
    {
     "name": "stdout",
     "output_type": "stream",
     "text": [
      "Tuple of the first 5 triangular numbers: (0, 1, 3, 6, 10)\n"
     ]
    }
   ],
   "source": [
    "\n",
    "# 48. Create a tuple of the first `n` triangular numbers.\n",
    "triangular_numbers_tuple = tuple(i * (i + 1) // 2 for i in range(5))\n",
    "print(\"Tuple of the first 5 triangular numbers:\", triangular_numbers_tuple)\n"
   ]
  },
  {
   "cell_type": "code",
   "execution_count": 149,
   "id": "5a1a3a2b-c76d-45ba-b303-d6d48591a353",
   "metadata": {},
   "outputs": [
    {
     "name": "stdout",
     "output_type": "stream",
     "text": [
      " Is the tuple a subsequence of another tuple? True\n"
     ]
    }
   ],
   "source": [
    "# 49. Check if a tuple contains another tuple as a subsequence.\n",
    "tuple_subsequence = (3, 4, 5)\n",
    "is_subsequence_tuple = all(element in unsorted_tuple for element in tuple_subsequence)\n",
    "print(\" Is the tuple a subsequence of another tuple?\", is_subsequence_tuple)\n"
   ]
  },
  {
   "cell_type": "code",
   "execution_count": 150,
   "id": "03de2a8f-15ff-4973-b409-92894509ecd2",
   "metadata": {},
   "outputs": [
    {
     "name": "stdout",
     "output_type": "stream",
     "text": [
      " Tuple of alternating 1s and 0s: (1, 0, 1, 0, 1, 0, 1, 0)\n"
     ]
    }
   ],
   "source": [
    "# 50. Create a tuple of alternating 1s and 0s of length `n`.\n",
    "n = 8\n",
    "alternating_tuple = tuple((1, 0) * (n // 2) + (1, ) * (n % 2))\n",
    "print(\" Tuple of alternating 1s and 0s:\", alternating_tuple)"
   ]
  },
  {
   "cell_type": "code",
   "execution_count": 151,
   "id": "e6192d55-1c38-4a61-a675-6ef00c07ac1a",
   "metadata": {},
   "outputs": [
    {
     "name": "stdout",
     "output_type": "stream",
     "text": [
      " Set with integers from 1 to 5: {1, 2, 3, 4, 5}\n"
     ]
    }
   ],
   "source": [
    "#  Set Based Practice Problem :\n",
    "# 1. Create a set with integers from 1 to 5.\n",
    "integer_set = {1, 2, 3, 4, 5}\n",
    "print(\" Set with integers from 1 to 5:\", integer_set)\n",
    "\n",
    "\n",
    "\n"
   ]
  },
  {
   "cell_type": "code",
   "execution_count": 152,
   "id": "4eca899d-8fcd-4986-8451-0fa8b2196581",
   "metadata": {},
   "outputs": [
    {
     "name": "stdout",
     "output_type": "stream",
     "text": [
      "Set after adding element 6: {1, 2, 3, 4, 5, 6}\n"
     ]
    }
   ],
   "source": [
    "# 2. Add an element to a set.\n",
    "integer_set.add(6)\n",
    "print(\"Set after adding element 6:\", integer_set)"
   ]
  },
  {
   "cell_type": "code",
   "execution_count": 153,
   "id": "e2ddc4d9-a9de-4cad-8a41-00e2b2198dda",
   "metadata": {},
   "outputs": [
    {
     "name": "stdout",
     "output_type": "stream",
     "text": [
      "Set after removing element 3: {1, 2, 4, 5, 6}\n"
     ]
    }
   ],
   "source": [
    "# 3. Remove an element from a set.\n",
    "integer_set.remove(3)\n",
    "print(\"Set after removing element 3:\", integer_set)\n"
   ]
  },
  {
   "cell_type": "code",
   "execution_count": 154,
   "id": "c8d08d45-9997-4ecc-b682-dd9f12a88991",
   "metadata": {},
   "outputs": [
    {
     "name": "stdout",
     "output_type": "stream",
     "text": [
      " Element 4 exists in the set: True\n"
     ]
    }
   ],
   "source": [
    "# 4. Check if an element exists in a set.\n",
    "element_to_check = 4\n",
    "exists_in_set = element_to_check in integer_set\n",
    "print(f\" Element {element_to_check} exists in the set: {exists_in_set}\")"
   ]
  },
  {
   "cell_type": "code",
   "execution_count": 155,
   "id": "462e8381-dfea-4a32-8fad-f19c56dce6f8",
   "metadata": {},
   "outputs": [
    {
     "name": "stdout",
     "output_type": "stream",
     "text": [
      " Length of the set: 5\n"
     ]
    }
   ],
   "source": [
    "\n",
    "# 5. Find the length of a set without using the `len()` function.\n",
    "set_length = sum(1 for _ in integer_set)\n",
    "print(\" Length of the set:\", set_length)\n"
   ]
  },
  {
   "cell_type": "code",
   "execution_count": 156,
   "id": "4d7fb404-eb2d-4664-bbd2-4042c262a1d2",
   "metadata": {},
   "outputs": [
    {
     "name": "stdout",
     "output_type": "stream",
     "text": [
      " Set after clearing all elements: set()\n"
     ]
    }
   ],
   "source": [
    "# 6. Clear all elements from a set.\n",
    "integer_set.clear()\n",
    "print(\" Set after clearing all elements:\", integer_set)\n"
   ]
  },
  {
   "cell_type": "code",
   "execution_count": 157,
   "id": "b9674497-767d-42d6-a1e5-72278b0a94cb",
   "metadata": {},
   "outputs": [
    {
     "name": "stdout",
     "output_type": "stream",
     "text": [
      "Set of even numbers from 1 to 10: {2, 4, 6, 8, 10}\n"
     ]
    }
   ],
   "source": [
    "# 7. Create a set of even numbers from 1 to 10.\n",
    "even_set = set(range(2, 11, 2))\n",
    "print(\"Set of even numbers from 1 to 10:\", even_set)\n"
   ]
  },
  {
   "cell_type": "code",
   "execution_count": 158,
   "id": "b4a04d89-bb41-42ad-a2ab-07316f388897",
   "metadata": {},
   "outputs": [
    {
     "name": "stdout",
     "output_type": "stream",
     "text": [
      " Set of odd numbers from 1 to 10: {1, 3, 5, 7, 9}\n"
     ]
    }
   ],
   "source": [
    "# 8. Create a set of odd numbers from 1 to 10.\n",
    "odd_set = set(range(1, 11, 2))\n",
    "print(\" Set of odd numbers from 1 to 10:\", odd_set)\n"
   ]
  },
  {
   "cell_type": "code",
   "execution_count": 159,
   "id": "587d4a99-f381-4cb4-a712-272dadd541dd",
   "metadata": {},
   "outputs": [
    {
     "name": "stdout",
     "output_type": "stream",
     "text": [
      " Union of two sets: {1, 2, 3, 4, 5}\n"
     ]
    }
   ],
   "source": [
    "# 9. Find the union of two sets.\n",
    "set_a = {1, 2, 3}\n",
    "set_b = {3, 4, 5}\n",
    "union_set = set_a.union(set_b)\n",
    "print(\" Union of two sets:\", union_set)\n"
   ]
  },
  {
   "cell_type": "code",
   "execution_count": 160,
   "id": "fd77ae2c-224d-46a7-b658-671a4de376c6",
   "metadata": {},
   "outputs": [
    {
     "name": "stdout",
     "output_type": "stream",
     "text": [
      " Intersection of two sets: {3}\n"
     ]
    }
   ],
   "source": [
    "# 10. Find the intersection of two sets.\n",
    "intersection_set = set_a.intersection(set_b)\n",
    "print(\" Intersection of two sets:\", intersection_set)\n"
   ]
  },
  {
   "cell_type": "code",
   "execution_count": 161,
   "id": "4b01d621-5bf8-4b25-92ac-d6f5ccb35a4b",
   "metadata": {},
   "outputs": [
    {
     "name": "stdout",
     "output_type": "stream",
     "text": [
      " Difference between two sets: {1, 2}\n"
     ]
    }
   ],
   "source": [
    "# 11. Find the difference between two sets.\n",
    "difference_set = set_a.difference(set_b)\n",
    "print(\" Difference between two sets:\", difference_set)\n"
   ]
  },
  {
   "cell_type": "code",
   "execution_count": 162,
   "id": "a5f289a3-ee63-42f2-9ff5-a998c3c3eaee",
   "metadata": {},
   "outputs": [
    {
     "name": "stdout",
     "output_type": "stream",
     "text": [
      " Is set_a a subset of set_b? False\n"
     ]
    }
   ],
   "source": [
    "# 12. Check if a set is a subset of another set.\n",
    "subset_check = set_a.issubset(set_b)\n",
    "print(\" Is set_a a subset of set_b?\", subset_check)"
   ]
  },
  {
   "cell_type": "code",
   "execution_count": 163,
   "id": "07317b4f-c36a-4294-bfc7-48bc29958da6",
   "metadata": {},
   "outputs": [
    {
     "name": "stdout",
     "output_type": "stream",
     "text": [
      " Is set_a a superset of set_b? False\n"
     ]
    }
   ],
   "source": [
    "# 13. Check if a set is a superset of another set.\n",
    "superset_check = set_a.issuperset(set_b)\n",
    "print(\" Is set_a a superset of set_b?\", superset_check)"
   ]
  },
  {
   "cell_type": "code",
   "execution_count": 164,
   "id": "e4f64e1f-78ef-4be2-81a3-0ac14dba7529",
   "metadata": {},
   "outputs": [
    {
     "name": "stdout",
     "output_type": "stream",
     "text": [
      " Set created from a list: {1, 2, 3, 4, 5}\n"
     ]
    }
   ],
   "source": [
    "# 14. Create a set from a list.\n",
    "list_to_set = set([1, 2, 3, 4, 5])\n",
    "print(\" Set created from a list:\", list_to_set)"
   ]
  },
  {
   "cell_type": "code",
   "execution_count": 165,
   "id": "95970ba7-3d84-4ca1-a9d4-4b98a26b1af3",
   "metadata": {},
   "outputs": [
    {
     "name": "stdout",
     "output_type": "stream",
     "text": [
      " List converted from a set: [1, 2, 3, 4, 5]\n"
     ]
    }
   ],
   "source": [
    "# 15. Convert a set to a list.\n",
    "set_to_list = list(list_to_set)\n",
    "print(\" List converted from a set:\", set_to_list)"
   ]
  },
  {
   "cell_type": "code",
   "execution_count": 166,
   "id": "ea5d90d3-d855-4763-b13a-5761312bbd49",
   "metadata": {},
   "outputs": [],
   "source": [
    "import random"
   ]
  },
  {
   "cell_type": "code",
   "execution_count": 167,
   "id": "9882d8d1-aec4-44b8-9f11-e125013397ad",
   "metadata": {},
   "outputs": [
    {
     "name": "stdout",
     "output_type": "stream",
     "text": [
      "Set after removing a random element: {1, 2, 3, 5}\n"
     ]
    }
   ],
   "source": [
    "# 16. Remove a random element from a set\n",
    "\n",
    "# Assuming demo_set is defined somewhere in your code\n",
    "demo_set = {1, 2, 3, 4, 5}\n",
    "\n",
    "# Remove a random element from a set\n",
    "random_element = random.choice(list(demo_set))\n",
    "demo_set.remove(random_element)\n",
    "\n",
    "print(\"Set after removing a random element:\", demo_set)\n"
   ]
  },
  {
   "cell_type": "code",
   "execution_count": 168,
   "id": "60a108bf-89dd-4dc6-b5d0-0ddf50eeb13a",
   "metadata": {},
   "outputs": [
    {
     "name": "stdout",
     "output_type": "stream",
     "text": [
      "Set after popping an element: {2, 3, 4, 5}\n",
      "Popped element: 1\n"
     ]
    }
   ],
   "source": [
    "# 17. Pop an element from a set.\n",
    "# Assuming demo_set \n",
    "demo_set = {1, 2, 3, 4, 5}\n",
    "\n",
    "# Pop an element from a set\n",
    "popped_element = demo_set.pop()\n",
    "\n",
    "print(\"Set after popping an element:\", demo_set)\n",
    "print(\"Popped element:\", popped_element)\n"
   ]
  },
  {
   "cell_type": "code",
   "execution_count": 169,
   "id": "2f20e812-41cd-4d4e-8b1b-f9b8b2180dce",
   "metadata": {},
   "outputs": [
    {
     "name": "stdout",
     "output_type": "stream",
     "text": [
      " set_a and set_b have no elements in common? True\n"
     ]
    }
   ],
   "source": [
    "# 18.  Check if two sets have no elements in common\n",
    "\n",
    "set_a = {1, 2, 3, 4, 5}\n",
    "set_b = {6, 7, 8, 9, 10}\n",
    "\n",
    "# Check if two sets have no elements in common\n",
    "no_common_elements = set_a.isdisjoint(set_b)\n",
    "\n",
    "print(\" set_a and set_b have no elements in common?\", no_common_elements)\n"
   ]
  },
  {
   "cell_type": "code",
   "execution_count": 170,
   "id": "a54ee556-74df-4b52-be12-7bc61c8046fb",
   "metadata": {},
   "outputs": [
    {
     "name": "stdout",
     "output_type": "stream",
     "text": [
      "Symmetric difference between set_a and set_b: {1, 2, 3, 6, 7, 8}\n"
     ]
    }
   ],
   "source": [
    "# 19. Find the symmetric difference between two sets\n",
    "set_a = {1, 2, 3, 4, 5}\n",
    "set_b = {4, 5, 6, 7, 8}\n",
    "\n",
    "symmetric_difference_set = set_a.symmetric_difference(set_b)\n",
    "\n",
    "print(\"Symmetric difference between set_a and set_b:\", symmetric_difference_set)\n"
   ]
  },
  {
   "cell_type": "code",
   "execution_count": 171,
   "id": "c69c9c78-1060-40d6-bdb9-fdcc4b08e81f",
   "metadata": {},
   "outputs": [
    {
     "name": "stdout",
     "output_type": "stream",
     "text": [
      "Set_a after updating with elements from set_b: {1, 2, 3, 4, 5, 6, 7, 8}\n"
     ]
    }
   ],
   "source": [
    "# 20. Update a set with elements from another set \n",
    "set_a = {1, 2, 3, 4, 5}\n",
    "set_b = {4, 5, 6, 7, 8}\n",
    " \n",
    "set_a.update(set_b)\n",
    "\n",
    "print(\"Set_a after updating with elements from set_b:\", set_a)\n"
   ]
  },
  {
   "cell_type": "code",
   "execution_count": 172,
   "id": "d3619a5c-62c2-4b20-b024-967dc328f4bf",
   "metadata": {},
   "outputs": [
    {
     "name": "stdout",
     "output_type": "stream",
     "text": [
      "Set of the first 5 prime numbers: {2, 3, 5, 7, 11}\n",
      "Set A: {1, 2, 3, 4, 5}\n",
      "Set B: {4, 5, 6, 7, 8}\n"
     ]
    }
   ],
   "source": [
    "# 21. Create a set of the first 5 prime numbers.\n",
    "set_of_primes = {2, 3, 5, 7, 11}\n",
    "\n",
    "set_a = {1, 2, 3, 4, 5}\n",
    "set_b = {4, 5, 6, 7, 8}\n",
    "\n",
    "print(\"Set of the first 5 prime numbers:\", set_of_primes)\n",
    "print(\"Set A:\", set_a)\n",
    "print(\"Set B:\", set_b)\n"
   ]
  },
  {
   "cell_type": "code",
   "execution_count": 173,
   "id": "d8ec53cb-8ff0-4da9-89a9-16660395a62e",
   "metadata": {},
   "outputs": [
    {
     "name": "stdout",
     "output_type": "stream",
     "text": [
      " Are set_a and set_b identical? False\n"
     ]
    }
   ],
   "source": [
    "# 22. Check if two sets are identical.\n",
    "are_identical = set_a == set_b\n",
    "print(\" Are set_a and set_b identical?\", are_identical)"
   ]
  },
  {
   "cell_type": "code",
   "execution_count": 174,
   "id": "04cab17d-0111-4806-9c85-9fd98a5a5b2e",
   "metadata": {},
   "outputs": [
    {
     "name": "stdout",
     "output_type": "stream",
     "text": [
      " Frozen set: frozenset({1, 2, 3, 4, 5})\n"
     ]
    }
   ],
   "source": [
    "# 23. Create a frozen set.\n",
    "frozen_set = frozenset(set_a)\n",
    "print(\" Frozen set:\", frozen_set)"
   ]
  },
  {
   "cell_type": "code",
   "execution_count": 175,
   "id": "4107c8d3-c94d-4fbb-81ba-3dbaf04a18f9",
   "metadata": {},
   "outputs": [
    {
     "name": "stdout",
     "output_type": "stream",
     "text": [
      "Is set_a disjoint with set_b? False\n"
     ]
    }
   ],
   "source": [
    "# 24. Check if a set is disjoint with another set.\n",
    "is_disjoint = set_a.isdisjoint(set_b)\n",
    "print(\"Is set_a disjoint with set_b?\", is_disjoint)"
   ]
  },
  {
   "cell_type": "code",
   "execution_count": 176,
   "id": "f677dde0-733e-40f7-9fb9-def0dfbc0caf",
   "metadata": {},
   "outputs": [
    {
     "name": "stdout",
     "output_type": "stream",
     "text": [
      " Set of squares: {1, 4, 9, 16, 25}\n"
     ]
    }
   ],
   "source": [
    "# 25. Create a set of squares of numbers from 1 to 5.\n",
    "set_of_squares = {x**2 for x in range(1, 6)}\n",
    "print(\" Set of squares:\", set_of_squares)"
   ]
  },
  {
   "cell_type": "code",
   "execution_count": 177,
   "id": "cb9d06a6-5784-4088-b8ba-d5639d61eb6c",
   "metadata": {},
   "outputs": [
    {
     "name": "stdout",
     "output_type": "stream",
     "text": [
      " Set without even numbers: {1, 3, 5}\n"
     ]
    }
   ],
   "source": [
    "# 26. Filter out all even numbers from a set.\n",
    "set_without_evens = {x for x in set_a if x % 2 != 0}\n",
    "print(\" Set without even numbers:\", set_without_evens)"
   ]
  },
  {
   "cell_type": "code",
   "execution_count": 178,
   "id": "8c25f802-4d7c-4744-a3a1-09c375c46587",
   "metadata": {},
   "outputs": [
    {
     "name": "stdout",
     "output_type": "stream",
     "text": [
      " Set with elements multiplied by 2: {2, 4, 6, 8, 10}\n"
     ]
    }
   ],
   "source": [
    "# 27. Multiply all elements in a set by 2.\n",
    "set_multiplied_by_2 = {x * 2 for x in set_a}\n",
    "print(\" Set with elements multiplied by 2:\", set_multiplied_by_2)"
   ]
  },
  {
   "cell_type": "code",
   "execution_count": 179,
   "id": "7fbd1011-9ba0-4e5b-93d2-f77de713c760",
   "metadata": {},
   "outputs": [
    {
     "name": "stdout",
     "output_type": "stream",
     "text": [
      " Set of random numbers: {8, 9, 1, 7}\n"
     ]
    }
   ],
   "source": [
    "# 28. Create a set of random numbers.\n",
    "random_set = {random.randint(1, 10) for _ in range(5)}\n",
    "print(\" Set of random numbers:\", random_set)"
   ]
  },
  {
   "cell_type": "code",
   "execution_count": 180,
   "id": "1d92504a-8d3a-49f3-8f28-2a06de1c3cc3",
   "metadata": {},
   "outputs": [
    {
     "name": "stdout",
     "output_type": "stream",
     "text": [
      " Is set_a empty? False\n"
     ]
    }
   ],
   "source": [
    "# 29. Check if a set is empty.\n",
    "is_empty_set = len(set_a) == 0\n",
    "print(\" Is set_a empty?\", is_empty_set)\n"
   ]
  },
  {
   "cell_type": "code",
   "execution_count": 181,
   "id": "969f9e36-042e-45bb-83ca-029cd43a8d82",
   "metadata": {},
   "outputs": [
    {
     "name": "stdout",
     "output_type": "stream",
     "text": [
      " Nested set: frozenset({frozenset({3, 4}), frozenset({1, 2})})\n"
     ]
    }
   ],
   "source": [
    "# 30. Create a nested set (using frozenset).\n",
    "nested_set = frozenset({frozenset({1, 2}), frozenset({3, 4})})\n",
    "print(\" Nested set:\", nested_set)\n"
   ]
  },
  {
   "cell_type": "code",
   "execution_count": 182,
   "id": "e2fe39cc-a2a6-44a2-bebb-1a4799720d62",
   "metadata": {},
   "outputs": [
    {
     "name": "stdout",
     "output_type": "stream",
     "text": [
      " Set_a after removing element 3 using discard: {1, 2, 4, 5}\n"
     ]
    }
   ],
   "source": [
    "# 31. Remove an element from a set using the discard method.\n",
    "element_to_remove = 3\n",
    "set_a.discard(element_to_remove)\n",
    "print(\" Set_a after removing element\", element_to_remove, \"using discard:\", set_a)"
   ]
  },
  {
   "cell_type": "code",
   "execution_count": 183,
   "id": "9707fd2f-edd2-4499-8978-88f413c14649",
   "metadata": {},
   "outputs": [
    {
     "name": "stdout",
     "output_type": "stream",
     "text": [
      " Are set_a and set_b equal? False\n",
      "    Is set_a a subset of set_b? False\n",
      "    Is set_a a superset of set_b? False\n"
     ]
    }
   ],
   "source": [
    "# 32. Compare two sets.\n",
    "set_a = {1, 2, 3, 4, 5}\n",
    "set_b = {4, 5, 6, 7, 8}\n",
    "\n",
    "\n",
    "are_equal_sets = set_a == set_b\n",
    "is_subset = set_a.issubset(set_b)\n",
    "is_superset = set_a.issuperset(set_b)\n",
    "print(\" Are set_a and set_b equal?\", are_equal_sets)\n",
    "print(\"    Is set_a a subset of set_b?\", is_subset)\n",
    "print(\"    Is set_a a superset of set_b?\", is_superset)"
   ]
  },
  {
   "cell_type": "code",
   "execution_count": 184,
   "id": "5b42d3fb-94fd-4ee1-9dfe-3e5489a94962",
   "metadata": {},
   "outputs": [
    {
     "name": "stdout",
     "output_type": "stream",
     "text": [
      " Set created from a string: {'h', 'o', 'l', 'e'}\n"
     ]
    }
   ],
   "source": [
    "# 33. Create a set from a string.\n",
    "string_set = set(\"hello\")\n",
    "print(\" Set created from a string:\", string_set)"
   ]
  },
  {
   "cell_type": "code",
   "execution_count": 185,
   "id": "da8ede53-aa90-48d7-8df4-751ab1281df2",
   "metadata": {},
   "outputs": [
    {
     "name": "stdout",
     "output_type": "stream",
     "text": [
      " Set of strings converted to integers: {1, 2, 3, 4, 5}\n"
     ]
    }
   ],
   "source": [
    "# 34. Convert a set of strings to a set of integers.\n",
    "string_set = {\"1\", \"2\", \"3\", \"4\", \"5\"}\n",
    "int_set = {int(x) for x in string_set}\n",
    "print(\" Set of strings converted to integers:\", int_set)"
   ]
  },
  {
   "cell_type": "code",
   "execution_count": 186,
   "id": "a754c3b5-e823-469d-8a01-46bf431a8d30",
   "metadata": {},
   "outputs": [
    {
     "name": "stdout",
     "output_type": "stream",
     "text": [
      " Set of integers converted to strings: {'2', '1', '3', '5', '4'}\n"
     ]
    }
   ],
   "source": [
    "# 35. Convert a set of integers to a set of strings.\n",
    "int_set = {1, 2, 3, 4, 5}\n",
    "string_set = {str(x) for x in int_set}\n",
    "print(\" Set of integers converted to strings:\", string_set)"
   ]
  },
  {
   "cell_type": "code",
   "execution_count": 187,
   "id": "0e8a838f-bf0a-4adf-9425-7e50afcf399c",
   "metadata": {},
   "outputs": [
    {
     "name": "stdout",
     "output_type": "stream",
     "text": [
      " Set created from a tuple: {1, 2, 3, 4, 5}\n"
     ]
    }
   ],
   "source": [
    "# 36. Create a set from a tuple.\n",
    "tuple_set = set((1, 2, 3, 4, 5))\n",
    "print(\" Set created from a tuple:\", tuple_set)"
   ]
  },
  {
   "cell_type": "code",
   "execution_count": 188,
   "id": "988eeacd-535e-41d7-a3f4-afe81fb42ebf",
   "metadata": {},
   "outputs": [
    {
     "name": "stdout",
     "output_type": "stream",
     "text": [
      "Set converted to a tuple: (1, 2, 3, 4, 5)\n"
     ]
    }
   ],
   "source": [
    "# 37. Convert a set to a tuple.\n",
    "set_to_tuple = tuple(set_a)\n",
    "print(\"Set converted to a tuple:\", set_to_tuple)"
   ]
  },
  {
   "cell_type": "code",
   "execution_count": 189,
   "id": "8b273bdb-ee70-4f3c-9f42-532761745e02",
   "metadata": {},
   "outputs": [
    {
     "name": "stdout",
     "output_type": "stream",
     "text": [
      " Maximum value in set_a: 5\n"
     ]
    }
   ],
   "source": [
    "# 38. Find the maximum value in a set.\n",
    "max_value = max(set_a)\n",
    "print(\" Maximum value in set_a:\", max_value)"
   ]
  },
  {
   "cell_type": "code",
   "execution_count": 190,
   "id": "23aec928-d92b-40c1-b855-986b4486fd76",
   "metadata": {},
   "outputs": [
    {
     "name": "stdout",
     "output_type": "stream",
     "text": [
      "Minimum value in set_a: 1\n"
     ]
    }
   ],
   "source": [
    "# 39. Find the minimum value in a set.\n",
    "min_value = min(set_a)\n",
    "print(\"Minimum value in set_a:\", min_value)"
   ]
  },
  {
   "cell_type": "code",
   "execution_count": 191,
   "id": "1a3b173c-48f2-4cf4-b342-b2f86dc764d5",
   "metadata": {},
   "outputs": [
    {
     "name": "stdin",
     "output_type": "stream",
     "text": [
      " Enter numbers separated by spaces:  2 4 6 8 9\n"
     ]
    },
    {
     "name": "stdout",
     "output_type": "stream",
     "text": [
      " Set created from user input: {2, 4, 6, 8, 9}\n"
     ]
    }
   ],
   "source": [
    "# 40. Create a set from user input.\n",
    "user_input_set = set(map(int, input(\" Enter numbers separated by spaces: \").split()))\n",
    "print(\" Set created from user input:\", user_input_set)"
   ]
  },
  {
   "cell_type": "code",
   "execution_count": 192,
   "id": "650a0ccc-6771-4468-8784-570914fe7ff3",
   "metadata": {},
   "outputs": [
    {
     "name": "stdout",
     "output_type": "stream",
     "text": [
      " Is the intersection of set_a and set_b empty? False\n"
     ]
    }
   ],
   "source": [
    "# 41. Check if the intersection of two sets is empty.\n",
    "intersection_empty_check = set_a.isdisjoint(set_b)\n",
    "print(\" Is the intersection of set_a and set_b empty?\", intersection_empty_check)"
   ]
  },
  {
   "cell_type": "code",
   "execution_count": 193,
   "id": "747abdc1-2e46-447f-a834-e702e11ecde2",
   "metadata": {},
   "outputs": [
    {
     "name": "stdout",
     "output_type": "stream",
     "text": [
      "Set of the first 5 Fibonacci numbers: {0, 1, 2, 3}\n"
     ]
    }
   ],
   "source": [
    "# 42. Function to generate the first n Fibonacci numbers\n",
    "def generate_fibonacci_set(n):\n",
    "    fibonacci_set = set()\n",
    "    a, b = 0, 1\n",
    "    for _ in range(n):\n",
    "        fibonacci_set.add(a)\n",
    "        a, b = b, a + b\n",
    "    return fibonacci_set\n",
    "\n",
    "# Create a set of the first 5 Fibonacci numbers\n",
    "fibonacci_numbers_set = generate_fibonacci_set(5)\n",
    "print(\"Set of the first 5 Fibonacci numbers:\", fibonacci_numbers_set)\n"
   ]
  },
  {
   "cell_type": "code",
   "execution_count": 194,
   "id": "5acfba70-907a-4002-9344-e800499321f7",
   "metadata": {},
   "outputs": [
    {
     "name": "stdout",
     "output_type": "stream",
     "text": [
      " List with duplicates removed using sets: [1, 2, 3, 4, 5]\n"
     ]
    }
   ],
   "source": [
    "# 43. Remove duplicates from a list using sets.\n",
    "original_list = [1, 2, 2, 3, 4, 4, 5]\n",
    "list_without_duplicates = list(set(original_list))\n",
    "print(\" List with duplicates removed using sets:\", list_without_duplicates)"
   ]
  },
  {
   "cell_type": "code",
   "execution_count": 195,
   "id": "504854dc-c374-429e-8228-2f17adcdf806",
   "metadata": {},
   "outputs": [
    {
     "name": "stdout",
     "output_type": "stream",
     "text": [
      "Do set_a and set_b have the same elements? False\n"
     ]
    }
   ],
   "source": [
    "# 44. Check if two sets have the same elements, regardless of their count.\n",
    "have_same_elements = set_a == set_b\n",
    "print(\"Do set_a and set_b have the same elements?\", have_same_elements)"
   ]
  },
  {
   "cell_type": "code",
   "execution_count": 196,
   "id": "418575d2-9817-4b57-bb6b-984416b54ab4",
   "metadata": {},
   "outputs": [
    {
     "name": "stdout",
     "output_type": "stream",
     "text": [
      " Set of the first 5 powers of 2: {1, 2, 4, 8, 16}\n"
     ]
    }
   ],
   "source": [
    "# 45. Create a set of the first `n` powers of 2.\n",
    "n_powers_of_2 = {2**i for i in range(5)}\n",
    "print(\" Set of the first 5 powers of 2:\", n_powers_of_2)"
   ]
  },
  {
   "cell_type": "code",
   "execution_count": 197,
   "id": "b6435d6d-353e-43d7-a437-917157a066b8",
   "metadata": {},
   "outputs": [
    {
     "name": "stdout",
     "output_type": "stream",
     "text": [
      " Common elements between set_a and a list: {1, 2, 5}\n"
     ]
    }
   ],
   "source": [
    "# 46. Find the common elements between a set and a list.\n",
    "common_elements = set_a.intersection([1, 2, 5, 6, 7])\n",
    "print(\" Common elements between set_a and a list:\", common_elements)"
   ]
  },
  {
   "cell_type": "code",
   "execution_count": 198,
   "id": "98dee072-15f5-4864-a1ce-f5bce9043da5",
   "metadata": {},
   "outputs": [
    {
     "name": "stdout",
     "output_type": "stream",
     "text": [
      "Set of the first 5 triangular numbers: {0, 1, 3, 6, 10}\n"
     ]
    }
   ],
   "source": [
    "# 47. Create a set of the first `n` triangular numbers.\n",
    "n_triangular_numbers = {(i * (i + 1)) // 2 for i in range(5)}\n",
    "print(\"Set of the first 5 triangular numbers:\", n_triangular_numbers)"
   ]
  },
  {
   "cell_type": "code",
   "execution_count": 199,
   "id": "a44f3134-8910-4f1b-901a-bc3d93cba969",
   "metadata": {},
   "outputs": [
    {
     "name": "stdout",
     "output_type": "stream",
     "text": [
      "Is set_b a subset of set_a? True\n"
     ]
    }
   ],
   "source": [
    "# 48. Check if a set contains another set as a subset.\n",
    "set_a = {1, 2, 3, 4, 5}\n",
    "set_b = {2, 3}\n",
    "is_subset = set_b.issubset(set_a)\n",
    "print(\"Is set_b a subset of set_a?\", is_subset)\n"
   ]
  },
  {
   "cell_type": "code",
   "execution_count": 200,
   "id": "07d7b822-e3f1-40fe-9c1a-502e7ad1f893",
   "metadata": {},
   "outputs": [
    {
     "name": "stdout",
     "output_type": "stream",
     "text": [
      "Set of alternating 1s and 0s: {0, 1}\n"
     ]
    }
   ],
   "source": [
    "# 49. Create a set of alternating 1s and 0s of length `n`.\n",
    "def alternating_set(n):\n",
    "    return {1 if i % 2 == 0 else 0 for i in range(n)}\n",
    "\n",
    "alternating_set_result = alternating_set(5)\n",
    "print(\"Set of alternating 1s and 0s:\", alternating_set_result)\n"
   ]
  },
  {
   "cell_type": "code",
   "execution_count": 201,
   "id": "70cba80e-ccf5-4676-9400-1c35864b8502",
   "metadata": {},
   "outputs": [
    {
     "name": "stdout",
     "output_type": "stream",
     "text": [
      " Merged set: {1, 2, 3, 4, 5, 6, 7}\n"
     ]
    }
   ],
   "source": [
    "# 50. Merge multiple sets into one.\n",
    "set_c = {1, 2, 3}\n",
    "set_d = {3, 4, 5}\n",
    "set_e = {5, 6, 7}\n",
    "merged_set = set_c.union(set_d, set_e)\n",
    "print(\" Merged set:\", merged_set)"
   ]
  }
 ],
 "metadata": {
  "kernelspec": {
   "display_name": "Python 3 (ipykernel)",
   "language": "python",
   "name": "python3"
  },
  "language_info": {
   "codemirror_mode": {
    "name": "ipython",
    "version": 3
   },
   "file_extension": ".py",
   "mimetype": "text/x-python",
   "name": "python",
   "nbconvert_exporter": "python",
   "pygments_lexer": "ipython3",
   "version": "3.10.8"
  }
 },
 "nbformat": 4,
 "nbformat_minor": 5
}
